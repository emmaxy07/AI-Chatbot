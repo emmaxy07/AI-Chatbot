{
  "nbformat": 4,
  "nbformat_minor": 0,
  "metadata": {
    "colab": {
      "provenance": [],
      "include_colab_link": true
    },
    "kernelspec": {
      "name": "python3",
      "display_name": "Python 3"
    },
    "language_info": {
      "name": "python"
    }
  },
  "cells": [
    {
      "cell_type": "markdown",
      "metadata": {
        "id": "view-in-github",
        "colab_type": "text"
      },
      "source": [
        "<a href=\"https://colab.research.google.com/github/emmaxy07/AI-Chatbot/blob/master/Profiling_matrix_multiplication.ipynb\" target=\"_parent\"><img src=\"https://colab.research.google.com/assets/colab-badge.svg\" alt=\"Open In Colab\"/></a>"
      ]
    },
    {
      "cell_type": "markdown",
      "source": [
        "# Matrix multiplication\n",
        "Matrix multiplication is a fundamental operation in numerical linear algebra.\n",
        "\n",
        "Given two matrices:\n",
        "\n",
        "Matrix A with size $l \\times m$\n",
        "Matrix B with size $m \\times n$\n",
        " The product will be a matrix C of size $l \\times n$\n",
        "This is Wikipedia's entry on Matrix Multiplication:\n",
        "\n",
        "https://en.wikipedia.org/wiki/Matrix_multiplication#:~:text=For%20matrix%20multiplication%2C%20the%20number,B%20is%20denoted%20as%20AB.\n",
        "\n",
        "To simplify things, we will use square matrices, with the same number of rows and columns, for the following examples.\n",
        "\n",
        "Let's create a couple of sample matrices.\n",
        "\n",
        "It is possible to create a file in COLAB using the directive %%writefile nameOfTheFil"
      ],
      "metadata": {
        "id": "jb4T3YyLgc1q"
      }
    },
    {
      "cell_type": "code",
      "execution_count": 1,
      "metadata": {
        "colab": {
          "base_uri": "https://localhost:8080/"
        },
        "id": "uStz5wgwgW3R",
        "outputId": "f4b4fe5a-bc24-4f7a-93cc-5a8c03e2ee1e"
      },
      "outputs": [
        {
          "output_type": "stream",
          "name": "stdout",
          "text": [
            "Writing A_4.Text\n"
          ]
        }
      ],
      "source": [
        "%%writefile A_4.Text\n",
        "4\n",
        "1 2 3 4\n",
        "5 6 7 8\n",
        "9 10 11 12\n",
        "13 14 15 16"
      ]
    },
    {
      "cell_type": "code",
      "source": [
        "%%writefile B_4.Text\n",
        "4\n",
        "1 0 0 0\n",
        "0 1 0 0\n",
        "0 0 1 0\n",
        "0 0 0 1"
      ],
      "metadata": {
        "colab": {
          "base_uri": "https://localhost:8080/"
        },
        "id": "4cUwSNF1gyDy",
        "outputId": "23ea8fd6-11f2-4ca0-f4da-1c9a5a6dedf3"
      },
      "execution_count": 2,
      "outputs": [
        {
          "output_type": "stream",
          "name": "stdout",
          "text": [
            "Writing B_4.Text\n"
          ]
        }
      ]
    },
    {
      "cell_type": "markdown",
      "source": [
        "Now, let's create a program that reads both files, multiplies the corresponding matrices and then prints the result."
      ],
      "metadata": {
        "id": "3zx0ASEhg19S"
      }
    },
    {
      "cell_type": "code",
      "source": [
        "%%writefile matrix_multiplication.py\n",
        "import sys\n",
        "import time\n",
        "\n",
        "def read_file(file_name):\n",
        "  file_object = open(file_name, \"r\")\n",
        "  # Input the number of rows and columns\n",
        "  size = int(file_object.readline())\n",
        "  rows = size\n",
        "  cols = size\n",
        "  # Initialize an empty matrix\n",
        "  matrix = []\n",
        "\n",
        "  # Input the matrix elements\n",
        "  for i in range(rows):\n",
        "    row = list(map(int, file_object.readline().split()))\n",
        "    matrix.append(row)\n",
        "  # Display the matrix\n",
        "  print(\"The matrix contained in the file \",file_name,\" is: \")\n",
        "  for row in matrix:\n",
        "    print(row)\n",
        "  return matrix,size\n",
        "\n",
        "# Main code\n",
        "\n",
        "# Read the content of the files passed in the command line\n",
        "# that contain the matrices to be multiplied\n",
        "A,size = read_file(sys.argv[1])\n",
        "B,size = read_file(sys.argv[2])\n",
        "\n",
        "# Initialize the result matrix to 0s\n",
        "C = [[0 for x in range(size)] for y in range(size)]\n",
        "\n",
        "# Multiply the matrices\n",
        "N = size\n",
        "start_time = time.time()\n",
        "for i in range(N):\n",
        "  for j in range(N):\n",
        "    for k in range(N):\n",
        "      C[i][j] += A[i][k]*B[k][j]\n",
        "\n",
        "end_time = time.time()\n",
        "elapsed_time = end_time - start_time\n",
        "\n",
        "\n",
        "# Print out the resulting matrix\n",
        "print(\"The resulting matrix is: \")\n",
        "for row in C:\n",
        "    print(row)\n",
        "\n",
        "print(\"Time required to carry out the computation: \",elapsed_time,\" seconds.\")"
      ],
      "metadata": {
        "colab": {
          "base_uri": "https://localhost:8080/"
        },
        "id": "Y7oFdaqrg3Kz",
        "outputId": "758ffd9c-1b17-4244-b544-d5d073964511"
      },
      "execution_count": 3,
      "outputs": [
        {
          "output_type": "stream",
          "name": "stdout",
          "text": [
            "Writing matrix_multiplication.py\n"
          ]
        }
      ]
    },
    {
      "cell_type": "markdown",
      "source": [
        "Now, let's execute the program, and check the execution time and the output."
      ],
      "metadata": {
        "id": "l55g-SZqg_iS"
      }
    },
    {
      "cell_type": "code",
      "source": [
        "!python3 matrix_multiplication.py A_4.Text B_4.Text\n"
      ],
      "metadata": {
        "colab": {
          "base_uri": "https://localhost:8080/"
        },
        "id": "FCAnrU8zhGG7",
        "outputId": "763afb26-e01b-4bd4-aa2a-aea04464c692"
      },
      "execution_count": 4,
      "outputs": [
        {
          "output_type": "stream",
          "name": "stdout",
          "text": [
            "The matrix contained in the file  A_4.Text  is: \n",
            "[1, 2, 3, 4]\n",
            "[5, 6, 7, 8]\n",
            "[9, 10, 11, 12]\n",
            "[13, 14, 15, 16]\n",
            "The matrix contained in the file  B_4.Text  is: \n",
            "[1, 0, 0, 0]\n",
            "[0, 1, 0, 0]\n",
            "[0, 0, 1, 0]\n",
            "[0, 0, 0, 1]\n",
            "The resulting matrix is: \n",
            "[1, 2, 3, 4]\n",
            "[5, 6, 7, 8]\n",
            "[9, 10, 11, 12]\n",
            "[13, 14, 15, 16]\n",
            "Time required to carry out the computation:  2.574920654296875e-05  seconds.\n"
          ]
        }
      ]
    },
    {
      "cell_type": "markdown",
      "source": [
        "Now, let's create a couple of slightly larger matrices to repeat the experiments and to observe how the execution times increases."
      ],
      "metadata": {
        "id": "72OVf9abhnKK"
      }
    },
    {
      "cell_type": "code",
      "source": [
        "%%writefile A_8.Text\n",
        "8\n",
        "1 2 3 4 5 6 7 8\n",
        "9 10 11 12 13 14 15 16\n",
        "17 18 19 20 21 22 23 24\n",
        "25 26 27 28 29 30 31 32\n",
        "33 34 35 36 37 38 39 40\n",
        "41 42 43 44 45 46 47 48\n",
        "49 50 51 52 53 54 55 56\n",
        "57 58 59 60 61 62 63 64"
      ],
      "metadata": {
        "colab": {
          "base_uri": "https://localhost:8080/"
        },
        "id": "-QkkuP87hxZR",
        "outputId": "daf1e445-84fa-4d8c-b029-2ba3ce51430f"
      },
      "execution_count": 5,
      "outputs": [
        {
          "output_type": "stream",
          "name": "stdout",
          "text": [
            "Writing A_8.Text\n"
          ]
        }
      ]
    },
    {
      "cell_type": "code",
      "source": [
        "%%writefile B_8.Text\n",
        "8\n",
        "1 0 0 0 0 0 0 0\n",
        "0 1 0 0 0 0 0 0\n",
        "0 0 1 0 0 0 0 0\n",
        "0 0 0 1 0 0 0 0\n",
        "0 0 0 0 1 0 0 0\n",
        "0 0 0 0 0 1 0 0\n",
        "0 0 0 0 0 0 1 0\n",
        "0 0 0 0 0 0 0 1"
      ],
      "metadata": {
        "colab": {
          "base_uri": "https://localhost:8080/"
        },
        "id": "LHw6-d_6h1m7",
        "outputId": "187174f6-821e-4aef-8bf1-a2bf32c58632"
      },
      "execution_count": 6,
      "outputs": [
        {
          "output_type": "stream",
          "name": "stdout",
          "text": [
            "Writing B_8.Text\n"
          ]
        }
      ]
    },
    {
      "cell_type": "code",
      "source": [
        "%%writefile A_12.Text\n",
        "12\n",
        "1 2 3 4 5 6 7 8 9 10 11 12\n",
        "13 14 15 16 17 18 19 20 21 22 23 24\n",
        "25 26 27 28 29 30 31 32 33 34 35 36\n",
        "37 38 39 40 41 42 43 44 45 46 47 48\n",
        "49 50 51 52 53 54 55 56 57 58 59 60\n",
        "61 62 63 64 65 66 67 68 69 70 71 72\n",
        "73 74 75 76 77 78 79 80 81 82 83 84\n",
        "85 86 87 88 89 90 91 92 93 94 95 96\n",
        "97 98 99 100 101 102 103 104 105 106 107 108\n",
        "109 110 111 112 113 114 115 116 117 118 119 120\n",
        "121 122 123 124 125 126 127 128 129 130 131 132\n",
        "133 134 135 136 137 138 139 140 141 142 143 144"
      ],
      "metadata": {
        "colab": {
          "base_uri": "https://localhost:8080/"
        },
        "id": "XvZrsnl0h5-y",
        "outputId": "745fbaa2-62e4-4b6d-fd73-991c58e15e55"
      },
      "execution_count": 7,
      "outputs": [
        {
          "output_type": "stream",
          "name": "stdout",
          "text": [
            "Writing A_12.Text\n"
          ]
        }
      ]
    },
    {
      "cell_type": "code",
      "source": [
        "%%writefile B_12.Text\n",
        "12\n",
        "1 0 0 0 0 0 0 0 0 0 0 0\n",
        "0 1 0 0 0 0 0 0 0 0 0 0\n",
        "0 0 1 0 0 0 0 0 0 0 0 0\n",
        "0 0 0 1 0 0 0 0 0 0 0 0\n",
        "0 0 0 0 1 0 0 0 0 0 0 0\n",
        "0 0 0 0 0 1 0 0 0 0 0 0\n",
        "0 0 0 0 0 0 1 0 0 0 0 0\n",
        "0 0 0 0 0 0 0 1 0 0 0 0\n",
        "0 0 0 0 0 0 0 0 1 0 0 0\n",
        "0 0 0 0 0 0 0 0 0 1 0 0\n",
        "0 0 0 0 0 0 0 0 0 0 1 0\n",
        "0 0 0 0 0 0 0 0 0 0 0 1"
      ],
      "metadata": {
        "colab": {
          "base_uri": "https://localhost:8080/"
        },
        "id": "4LIuqRagh-Ib",
        "outputId": "66eaf893-715a-4b43-c3e7-2de73ea0c7c1"
      },
      "execution_count": 8,
      "outputs": [
        {
          "output_type": "stream",
          "name": "stdout",
          "text": [
            "Writing B_12.Text\n"
          ]
        }
      ]
    },
    {
      "cell_type": "code",
      "source": [
        "%%writefile A_16.Text\n",
        "16\n",
        "1 2 3 4 5 6 7 8 9 10 11 12 13 14 15 16\n",
        "17 18 19 20 21 22 23 24 25 26 27 28 29 30 31 32\n",
        "33 34 35 36 37 38 39 40 41 42 43 44 45 46 47 48\n",
        "49 50 51 52 53 54 55 56 57 58 59 60 61 62 63 64\n",
        "65 66 67 68 69 70 71 72 73 74 75 76 77 78 79 80\n",
        "81 82 83 84 85 86 87 88 89 90 91 92 93 94 95 96\n",
        "97 98 99 100 101 102 103 104 105 106 107 108 109 110 111 112\n",
        "113 114 115 116 117 118 119 120 121 122 123 124 125 126 127 128\n",
        "129 130 131 132 133 134 135 136 137 138 139 140 141 142 143 144\n",
        "145 146 147 148 149 150 151 152 153 154 155 156 157 158 159 160\n",
        "161 162 163 164 165 166 167 168 169 170 171 172 173 174 175 176\n",
        "177 178 179 180 181 182 183 184 185 186 187 188 189 190 191 192\n",
        "193 194 195 196 197 198 199 200 201 202 203 204 205 206 207 208\n",
        "209 210 211 212 213 214 215 216 217 218 219 220 221 222 223 224\n",
        "225 226 227 228 229 230 231 232 233 234 235 236 237 238 239 240\n",
        "241 242 243 244 245 246 247 248 249 250 251 252 253 254 255 256"
      ],
      "metadata": {
        "colab": {
          "base_uri": "https://localhost:8080/"
        },
        "id": "3mOb-jsBnJt6",
        "outputId": "328c2783-9451-417b-817f-b32360b7f9f8"
      },
      "execution_count": 9,
      "outputs": [
        {
          "output_type": "stream",
          "name": "stdout",
          "text": [
            "Writing A_16.Text\n"
          ]
        }
      ]
    },
    {
      "cell_type": "code",
      "source": [
        "%%writefile B_16.Text\n",
        "16\n",
        "1 0 0 0 0 0 0 0 0 0 0 0 0 0 0 0\n",
        "0 1 0 0 0 0 0 0 0 0 0 0 0 0 0 0\n",
        "0 0 1 0 0 0 0 0 0 0 0 0 0 0 0 0\n",
        "0 0 0 1 0 0 0 0 0 0 0 0 0 0 0 0\n",
        "0 0 0 0 1 0 0 0 0 0 0 0 0 0 0 0\n",
        "0 0 0 0 0 1 0 0 0 0 0 0 0 0 0 0\n",
        "0 0 0 0 0 0 1 0 0 0 0 0 0 0 0 0\n",
        "0 0 0 0 0 0 0 1 0 0 0 0 0 0 0 0\n",
        "0 0 0 0 0 0 0 0 1 0 0 0 0 0 0 0\n",
        "0 0 0 0 0 0 0 0 0 1 0 0 0 0 0 0\n",
        "0 0 0 0 0 0 0 0 0 0 1 0 0 0 0 0\n",
        "0 0 0 0 0 0 0 0 0 0 0 1 0 0 0 0\n",
        "0 0 0 0 0 0 0 0 0 0 0 0 1 0 0 0\n",
        "0 0 0 0 0 0 0 0 0 0 0 0 0 1 0 0\n",
        "0 0 0 0 0 0 0 0 0 0 0 0 0 0 1 0\n",
        "0 0 0 0 0 0 0 0 0 0 0 0 0 0 0 1"
      ],
      "metadata": {
        "colab": {
          "base_uri": "https://localhost:8080/"
        },
        "id": "HeNUrsOAoT6Q",
        "outputId": "3954fdd3-d380-4ba2-b697-b4e8cb2e1d9e"
      },
      "execution_count": 10,
      "outputs": [
        {
          "output_type": "stream",
          "name": "stdout",
          "text": [
            "Writing B_16.Text\n"
          ]
        }
      ]
    },
    {
      "cell_type": "markdown",
      "source": [
        "Now, run the program again with these larger test matrices."
      ],
      "metadata": {
        "id": "JJyC2jhQiCPR"
      }
    },
    {
      "cell_type": "code",
      "source": [
        "!python3 matrix_multiplication.py A_8.Text B_8.Text"
      ],
      "metadata": {
        "colab": {
          "base_uri": "https://localhost:8080/"
        },
        "id": "iF9h3Q5_iF1y",
        "outputId": "2c510daf-4515-432d-9f16-49982f26ac58"
      },
      "execution_count": 11,
      "outputs": [
        {
          "output_type": "stream",
          "name": "stdout",
          "text": [
            "The matrix contained in the file  A_8.Text  is: \n",
            "[1, 2, 3, 4, 5, 6, 7, 8]\n",
            "[9, 10, 11, 12, 13, 14, 15, 16]\n",
            "[17, 18, 19, 20, 21, 22, 23, 24]\n",
            "[25, 26, 27, 28, 29, 30, 31, 32]\n",
            "[33, 34, 35, 36, 37, 38, 39, 40]\n",
            "[41, 42, 43, 44, 45, 46, 47, 48]\n",
            "[49, 50, 51, 52, 53, 54, 55, 56]\n",
            "[57, 58, 59, 60, 61, 62, 63, 64]\n",
            "The matrix contained in the file  B_8.Text  is: \n",
            "[1, 0, 0, 0, 0, 0, 0, 0]\n",
            "[0, 1, 0, 0, 0, 0, 0, 0]\n",
            "[0, 0, 1, 0, 0, 0, 0, 0]\n",
            "[0, 0, 0, 1, 0, 0, 0, 0]\n",
            "[0, 0, 0, 0, 1, 0, 0, 0]\n",
            "[0, 0, 0, 0, 0, 1, 0, 0]\n",
            "[0, 0, 0, 0, 0, 0, 1, 0]\n",
            "[0, 0, 0, 0, 0, 0, 0, 1]\n",
            "The resulting matrix is: \n",
            "[1, 2, 3, 4, 5, 6, 7, 8]\n",
            "[9, 10, 11, 12, 13, 14, 15, 16]\n",
            "[17, 18, 19, 20, 21, 22, 23, 24]\n",
            "[25, 26, 27, 28, 29, 30, 31, 32]\n",
            "[33, 34, 35, 36, 37, 38, 39, 40]\n",
            "[41, 42, 43, 44, 45, 46, 47, 48]\n",
            "[49, 50, 51, 52, 53, 54, 55, 56]\n",
            "[57, 58, 59, 60, 61, 62, 63, 64]\n",
            "Time required to carry out the computation:  0.00012135505676269531  seconds.\n"
          ]
        }
      ]
    },
    {
      "cell_type": "code",
      "source": [
        "!python3 matrix_multiplication.py A_12.Text B_12.Text"
      ],
      "metadata": {
        "colab": {
          "base_uri": "https://localhost:8080/"
        },
        "id": "RpREZ1BwiM6M",
        "outputId": "5d7eb8d3-5d51-4cb7-b637-2f0683475352"
      },
      "execution_count": 12,
      "outputs": [
        {
          "output_type": "stream",
          "name": "stdout",
          "text": [
            "The matrix contained in the file  A_12.Text  is: \n",
            "[1, 2, 3, 4, 5, 6, 7, 8, 9, 10, 11, 12]\n",
            "[13, 14, 15, 16, 17, 18, 19, 20, 21, 22, 23, 24]\n",
            "[25, 26, 27, 28, 29, 30, 31, 32, 33, 34, 35, 36]\n",
            "[37, 38, 39, 40, 41, 42, 43, 44, 45, 46, 47, 48]\n",
            "[49, 50, 51, 52, 53, 54, 55, 56, 57, 58, 59, 60]\n",
            "[61, 62, 63, 64, 65, 66, 67, 68, 69, 70, 71, 72]\n",
            "[73, 74, 75, 76, 77, 78, 79, 80, 81, 82, 83, 84]\n",
            "[85, 86, 87, 88, 89, 90, 91, 92, 93, 94, 95, 96]\n",
            "[97, 98, 99, 100, 101, 102, 103, 104, 105, 106, 107, 108]\n",
            "[109, 110, 111, 112, 113, 114, 115, 116, 117, 118, 119, 120]\n",
            "[121, 122, 123, 124, 125, 126, 127, 128, 129, 130, 131, 132]\n",
            "[133, 134, 135, 136, 137, 138, 139, 140, 141, 142, 143, 144]\n",
            "The matrix contained in the file  B_12.Text  is: \n",
            "[1, 0, 0, 0, 0, 0, 0, 0, 0, 0, 0, 0]\n",
            "[0, 1, 0, 0, 0, 0, 0, 0, 0, 0, 0, 0]\n",
            "[0, 0, 1, 0, 0, 0, 0, 0, 0, 0, 0, 0]\n",
            "[0, 0, 0, 1, 0, 0, 0, 0, 0, 0, 0, 0]\n",
            "[0, 0, 0, 0, 1, 0, 0, 0, 0, 0, 0, 0]\n",
            "[0, 0, 0, 0, 0, 1, 0, 0, 0, 0, 0, 0]\n",
            "[0, 0, 0, 0, 0, 0, 1, 0, 0, 0, 0, 0]\n",
            "[0, 0, 0, 0, 0, 0, 0, 1, 0, 0, 0, 0]\n",
            "[0, 0, 0, 0, 0, 0, 0, 0, 1, 0, 0, 0]\n",
            "[0, 0, 0, 0, 0, 0, 0, 0, 0, 1, 0, 0]\n",
            "[0, 0, 0, 0, 0, 0, 0, 0, 0, 0, 1, 0]\n",
            "[0, 0, 0, 0, 0, 0, 0, 0, 0, 0, 0, 1]\n",
            "The resulting matrix is: \n",
            "[1, 2, 3, 4, 5, 6, 7, 8, 9, 10, 11, 12]\n",
            "[13, 14, 15, 16, 17, 18, 19, 20, 21, 22, 23, 24]\n",
            "[25, 26, 27, 28, 29, 30, 31, 32, 33, 34, 35, 36]\n",
            "[37, 38, 39, 40, 41, 42, 43, 44, 45, 46, 47, 48]\n",
            "[49, 50, 51, 52, 53, 54, 55, 56, 57, 58, 59, 60]\n",
            "[61, 62, 63, 64, 65, 66, 67, 68, 69, 70, 71, 72]\n",
            "[73, 74, 75, 76, 77, 78, 79, 80, 81, 82, 83, 84]\n",
            "[85, 86, 87, 88, 89, 90, 91, 92, 93, 94, 95, 96]\n",
            "[97, 98, 99, 100, 101, 102, 103, 104, 105, 106, 107, 108]\n",
            "[109, 110, 111, 112, 113, 114, 115, 116, 117, 118, 119, 120]\n",
            "[121, 122, 123, 124, 125, 126, 127, 128, 129, 130, 131, 132]\n",
            "[133, 134, 135, 136, 137, 138, 139, 140, 141, 142, 143, 144]\n",
            "Time required to carry out the computation:  0.0004146099090576172  seconds.\n"
          ]
        }
      ]
    },
    {
      "cell_type": "code",
      "source": [
        "!python3 matrix_multiplication.py A_16.Text B_16.Text"
      ],
      "metadata": {
        "colab": {
          "base_uri": "https://localhost:8080/"
        },
        "id": "yp28DsYRozvh",
        "outputId": "163a06da-1639-4bcb-a2fb-f72615cee7b1"
      },
      "execution_count": 13,
      "outputs": [
        {
          "output_type": "stream",
          "name": "stdout",
          "text": [
            "The matrix contained in the file  A_16.Text  is: \n",
            "[1, 2, 3, 4, 5, 6, 7, 8, 9, 10, 11, 12, 13, 14, 15, 16]\n",
            "[17, 18, 19, 20, 21, 22, 23, 24, 25, 26, 27, 28, 29, 30, 31, 32]\n",
            "[33, 34, 35, 36, 37, 38, 39, 40, 41, 42, 43, 44, 45, 46, 47, 48]\n",
            "[49, 50, 51, 52, 53, 54, 55, 56, 57, 58, 59, 60, 61, 62, 63, 64]\n",
            "[65, 66, 67, 68, 69, 70, 71, 72, 73, 74, 75, 76, 77, 78, 79, 80]\n",
            "[81, 82, 83, 84, 85, 86, 87, 88, 89, 90, 91, 92, 93, 94, 95, 96]\n",
            "[97, 98, 99, 100, 101, 102, 103, 104, 105, 106, 107, 108, 109, 110, 111, 112]\n",
            "[113, 114, 115, 116, 117, 118, 119, 120, 121, 122, 123, 124, 125, 126, 127, 128]\n",
            "[129, 130, 131, 132, 133, 134, 135, 136, 137, 138, 139, 140, 141, 142, 143, 144]\n",
            "[145, 146, 147, 148, 149, 150, 151, 152, 153, 154, 155, 156, 157, 158, 159, 160]\n",
            "[161, 162, 163, 164, 165, 166, 167, 168, 169, 170, 171, 172, 173, 174, 175, 176]\n",
            "[177, 178, 179, 180, 181, 182, 183, 184, 185, 186, 187, 188, 189, 190, 191, 192]\n",
            "[193, 194, 195, 196, 197, 198, 199, 200, 201, 202, 203, 204, 205, 206, 207, 208]\n",
            "[209, 210, 211, 212, 213, 214, 215, 216, 217, 218, 219, 220, 221, 222, 223, 224]\n",
            "[225, 226, 227, 228, 229, 230, 231, 232, 233, 234, 235, 236, 237, 238, 239, 240]\n",
            "[241, 242, 243, 244, 245, 246, 247, 248, 249, 250, 251, 252, 253, 254, 255, 256]\n",
            "The matrix contained in the file  B_16.Text  is: \n",
            "[1, 0, 0, 0, 0, 0, 0, 0, 0, 0, 0, 0, 0, 0, 0, 0]\n",
            "[0, 1, 0, 0, 0, 0, 0, 0, 0, 0, 0, 0, 0, 0, 0, 0]\n",
            "[0, 0, 1, 0, 0, 0, 0, 0, 0, 0, 0, 0, 0, 0, 0, 0]\n",
            "[0, 0, 0, 1, 0, 0, 0, 0, 0, 0, 0, 0, 0, 0, 0, 0]\n",
            "[0, 0, 0, 0, 1, 0, 0, 0, 0, 0, 0, 0, 0, 0, 0, 0]\n",
            "[0, 0, 0, 0, 0, 1, 0, 0, 0, 0, 0, 0, 0, 0, 0, 0]\n",
            "[0, 0, 0, 0, 0, 0, 1, 0, 0, 0, 0, 0, 0, 0, 0, 0]\n",
            "[0, 0, 0, 0, 0, 0, 0, 1, 0, 0, 0, 0, 0, 0, 0, 0]\n",
            "[0, 0, 0, 0, 0, 0, 0, 0, 1, 0, 0, 0, 0, 0, 0, 0]\n",
            "[0, 0, 0, 0, 0, 0, 0, 0, 0, 1, 0, 0, 0, 0, 0, 0]\n",
            "[0, 0, 0, 0, 0, 0, 0, 0, 0, 0, 1, 0, 0, 0, 0, 0]\n",
            "[0, 0, 0, 0, 0, 0, 0, 0, 0, 0, 0, 1, 0, 0, 0, 0]\n",
            "[0, 0, 0, 0, 0, 0, 0, 0, 0, 0, 0, 0, 1, 0, 0, 0]\n",
            "[0, 0, 0, 0, 0, 0, 0, 0, 0, 0, 0, 0, 0, 1, 0, 0]\n",
            "[0, 0, 0, 0, 0, 0, 0, 0, 0, 0, 0, 0, 0, 0, 1, 0]\n",
            "[0, 0, 0, 0, 0, 0, 0, 0, 0, 0, 0, 0, 0, 0, 0, 1]\n",
            "The resulting matrix is: \n",
            "[1, 2, 3, 4, 5, 6, 7, 8, 9, 10, 11, 12, 13, 14, 15, 16]\n",
            "[17, 18, 19, 20, 21, 22, 23, 24, 25, 26, 27, 28, 29, 30, 31, 32]\n",
            "[33, 34, 35, 36, 37, 38, 39, 40, 41, 42, 43, 44, 45, 46, 47, 48]\n",
            "[49, 50, 51, 52, 53, 54, 55, 56, 57, 58, 59, 60, 61, 62, 63, 64]\n",
            "[65, 66, 67, 68, 69, 70, 71, 72, 73, 74, 75, 76, 77, 78, 79, 80]\n",
            "[81, 82, 83, 84, 85, 86, 87, 88, 89, 90, 91, 92, 93, 94, 95, 96]\n",
            "[97, 98, 99, 100, 101, 102, 103, 104, 105, 106, 107, 108, 109, 110, 111, 112]\n",
            "[113, 114, 115, 116, 117, 118, 119, 120, 121, 122, 123, 124, 125, 126, 127, 128]\n",
            "[129, 130, 131, 132, 133, 134, 135, 136, 137, 138, 139, 140, 141, 142, 143, 144]\n",
            "[145, 146, 147, 148, 149, 150, 151, 152, 153, 154, 155, 156, 157, 158, 159, 160]\n",
            "[161, 162, 163, 164, 165, 166, 167, 168, 169, 170, 171, 172, 173, 174, 175, 176]\n",
            "[177, 178, 179, 180, 181, 182, 183, 184, 185, 186, 187, 188, 189, 190, 191, 192]\n",
            "[193, 194, 195, 196, 197, 198, 199, 200, 201, 202, 203, 204, 205, 206, 207, 208]\n",
            "[209, 210, 211, 212, 213, 214, 215, 216, 217, 218, 219, 220, 221, 222, 223, 224]\n",
            "[225, 226, 227, 228, 229, 230, 231, 232, 233, 234, 235, 236, 237, 238, 239, 240]\n",
            "[241, 242, 243, 244, 245, 246, 247, 248, 249, 250, 251, 252, 253, 254, 255, 256]\n",
            "Time required to carry out the computation:  0.0015861988067626953  seconds.\n"
          ]
        }
      ]
    },
    {
      "cell_type": "markdown",
      "source": [
        "# Profiling\n",
        "Most programming environments will have a profiling tool available.\n",
        "The profiling tool allows the developer to understand where most of the execution time is being used and which instructions are executed most frequently.\n",
        "\n",
        "There is a nice profiler tool available for python called line_profiler, which we can install on COLAB."
      ],
      "metadata": {
        "id": "syD8EoMzild8"
      }
    },
    {
      "cell_type": "code",
      "source": [
        "!pip install line_profiler"
      ],
      "metadata": {
        "colab": {
          "base_uri": "https://localhost:8080/"
        },
        "id": "d6VK71cHi-UN",
        "outputId": "fe7bcb4d-08b3-4348-ffef-c2c00d667263"
      },
      "execution_count": 14,
      "outputs": [
        {
          "output_type": "stream",
          "name": "stdout",
          "text": [
            "Collecting line_profiler\n",
            "  Downloading line_profiler-5.0.0-cp312-cp312-manylinux_2_17_x86_64.manylinux2014_x86_64.whl.metadata (30 kB)\n",
            "Downloading line_profiler-5.0.0-cp312-cp312-manylinux_2_17_x86_64.manylinux2014_x86_64.whl (1.5 MB)\n",
            "\u001b[2K   \u001b[90m━━━━━━━━━━━━━━━━━━━━━━━━━━━━━━━━━━━━━━━━\u001b[0m \u001b[32m1.5/1.5 MB\u001b[0m \u001b[31m19.3 MB/s\u001b[0m eta \u001b[36m0:00:00\u001b[0m\n",
            "\u001b[?25hInstalling collected packages: line_profiler\n",
            "Successfully installed line_profiler-5.0.0\n"
          ]
        }
      ]
    },
    {
      "cell_type": "markdown",
      "source": [
        "We need to add a decorator to the source code:\n",
        "\n",
        "@profile"
      ],
      "metadata": {
        "id": "-I9PpCYJjzmC"
      }
    },
    {
      "cell_type": "code",
      "source": [
        "%%writefile profile_matrix_multiplication.py\n",
        "import sys\n",
        "import time\n",
        "\n",
        "def read_file(file_name):\n",
        "  file_object = open(file_name, \"r\")\n",
        "  # Input the number of rows and columns\n",
        "  size = int(file_object.readline())\n",
        "  rows = size\n",
        "  cols = size\n",
        "  # Initialize an empty matrix\n",
        "  matrix = []\n",
        "\n",
        "  # Input the matrix elements\n",
        "  for i in range(rows):\n",
        "    row = list(map(int, file_object.readline().split()))\n",
        "    matrix.append(row)\n",
        "  # Display the matrix\n",
        "  print(\"The matrix contained in the file \",file_name,\" is: \")\n",
        "  for row in matrix:\n",
        "    print(row)\n",
        "  return matrix,size\n",
        "\n",
        "# Main code\n",
        "@profile\n",
        "def matrix_multiplication():\n",
        "# Read the content of the files passed in the command line\n",
        "# that contain the matrices to be multiplied\n",
        "  A,size = read_file(sys.argv[1])\n",
        "  B,size = read_file(sys.argv[2])\n",
        "\n",
        "# Initialize the result matrix to 0s\n",
        "  C = [[0 for x in range(size)] for y in range(size)]\n",
        "\n",
        "# Multiply the matrices\n",
        "  N = size\n",
        "  start_time = time.time()\n",
        "  for i in range(N):\n",
        "    for j in range(N):\n",
        "      for k in range(N):\n",
        "        C[i][j] += A[i][k]*B[k][j]\n",
        "\n",
        "  end_time = time.time()\n",
        "  elapsed_time = end_time - start_time\n",
        "  # Print out the resulting matrix\n",
        "  print(\"The resulting matrix is: \")\n",
        "  for row in C:\n",
        "      print(row)\n",
        "\n",
        "  print(\"Time required to carry out the computation: \",elapsed_time,\" seconds.\")\n",
        "\n",
        "if __name__ == \"__main__\":\n",
        "  matrix_multiplication()"
      ],
      "metadata": {
        "colab": {
          "base_uri": "https://localhost:8080/"
        },
        "id": "sWQ3W21yj0ux",
        "outputId": "58b9808e-15bd-4f17-f9be-ad175f753a31"
      },
      "execution_count": 15,
      "outputs": [
        {
          "output_type": "stream",
          "name": "stdout",
          "text": [
            "Writing profile_matrix_multiplication.py\n"
          ]
        }
      ]
    },
    {
      "cell_type": "markdown",
      "source": [
        "Now we execute the code to collect the profiling information. Initially, we will execute the program with the two matrices of size $4 \\times 4$"
      ],
      "metadata": {
        "id": "l46WOfQcj_BL"
      }
    },
    {
      "cell_type": "code",
      "source": [
        "!kernprof -l profile_matrix_multiplication.py A_4.Text B_4.Text"
      ],
      "metadata": {
        "colab": {
          "base_uri": "https://localhost:8080/"
        },
        "id": "bYFAbmkzkEqB",
        "outputId": "51f7a4e7-3db1-454d-fbfc-49f83ea584ab"
      },
      "execution_count": 16,
      "outputs": [
        {
          "output_type": "stream",
          "name": "stdout",
          "text": [
            "The matrix contained in the file  A_4.Text  is: \n",
            "[1, 2, 3, 4]\n",
            "[5, 6, 7, 8]\n",
            "[9, 10, 11, 12]\n",
            "[13, 14, 15, 16]\n",
            "The matrix contained in the file  B_4.Text  is: \n",
            "[1, 0, 0, 0]\n",
            "[0, 1, 0, 0]\n",
            "[0, 0, 1, 0]\n",
            "[0, 0, 0, 1]\n",
            "The resulting matrix is: \n",
            "[1, 2, 3, 4]\n",
            "[5, 6, 7, 8]\n",
            "[9, 10, 11, 12]\n",
            "[13, 14, 15, 16]\n",
            "Time required to carry out the computation:  0.00016427040100097656  seconds.\n",
            "Wrote profile results to 'profile_matrix_multiplication.py.lprof'\n",
            "Inspect results with:\n",
            "python3 -m line_profiler -rmt profile_matrix_multiplication.py.lprof\n"
          ]
        }
      ]
    },
    {
      "cell_type": "markdown",
      "source": [
        "And now we look at the profiling information collected during the execution of the program:"
      ],
      "metadata": {
        "id": "f9MY0Z1JkN3K"
      }
    },
    {
      "cell_type": "code",
      "source": [
        "!python3 -m line_profiler -rmt  \"profile_matrix_multiplication.py.lprof\""
      ],
      "metadata": {
        "colab": {
          "base_uri": "https://localhost:8080/"
        },
        "id": "aCrAWv5ukNgZ",
        "outputId": "13884449-2683-4058-a163-20263c8c4b27"
      },
      "execution_count": 17,
      "outputs": [
        {
          "output_type": "stream",
          "name": "stdout",
          "text": [
            "Timer unit: 1e-06 s\n",
            "\n",
            "Total time: 0.000506109 s\n",
            "File: profile_matrix_multiplication.py\n",
            "Function: matrix_multiplication at line 24\n",
            "\n",
            "Line #      Hits         Time  Per Hit   % Time  Line Contents\n",
            "==============================================================\n",
            "    \u001b[1;36m24\u001b[0m                                   \u001b[92;49m@profile\u001b[0m                               \n",
            "    \u001b[1;36m25\u001b[0m                                   \u001b[96;49mdef\u001b[0m\u001b[97;49m \u001b[0m\u001b[92;49mmatrix_multiplication\u001b[0m\u001b[97;49m(\u001b[0m\u001b[97;49m)\u001b[0m\u001b[97;49m:\u001b[0m           \n",
            "    \u001b[1;36m26\u001b[0m                                   \u001b[37;49m# Read the content of the files passed…\u001b[0m\n",
            "    \u001b[1;36m27\u001b[0m                                   \u001b[37;49m# that contain the matrices to be mult…\u001b[0m\n",
            "    \u001b[1;36m28\u001b[0m         \u001b[1;36m1\u001b[0m        \u001b[1;36m201.0\u001b[0m    \u001b[1;36m201.0\u001b[0m   \u001b[97;49m  \u001b[0m\u001b[97;49mA\u001b[0m\u001b[97;49m,\u001b[0m\u001b[97;49msize\u001b[0m\u001b[97;49m \u001b[0m\u001b[91;49m=\u001b[0m\u001b[97;49m \u001b[0m\u001b[97;49mread_file\u001b[0m\u001b[97;49m(\u001b[0m\u001b[97;49msys\u001b[0m\u001b[91;49m.\u001b[0m\u001b[97;49margv\u001b[0m\u001b[97;49m[\u001b[0m\u001b[37;49m1\u001b[0m\u001b[97;49m]\u001b[0m\u001b[97;49m)\u001b[0m      \n",
            "\u001b[1;36m39.7\u001b[0m                                     \u001b[97;49m  \u001b[0m\u001b[97;49mB\u001b[0m\u001b[97;49m,\u001b[0m\u001b[97;49msize\u001b[0m\u001b[97;49m \u001b[0m\u001b[91;49m=\u001b[0m\u001b[97;49m \u001b[0m\u001b[97;49mread_file\u001b[0m\u001b[97;49m(\u001b[0m\u001b[97;49msys\u001b[0m\u001b[91;49m.\u001b[0m\u001b[97;49margv\u001b[0m\u001b[97;49m[\u001b[0m\u001b[37;49m2\u001b[0m\u001b[97;49m]\u001b[0m\u001b[97;49m)\u001b[0m      \n",
            "    \u001b[1;36m29\u001b[0m         \u001b[1;36m1\u001b[0m        \u001b[1;36m128.5\u001b[0m    \u001b[1;36m128.5\u001b[0m                                          \n",
            "\u001b[1;36m25.4\u001b[0m                                     \u001b[37;49m# Initialize the result matrix to 0s\u001b[0m   \n",
            "    \u001b[1;36m30\u001b[0m                                   \u001b[97;49m  \u001b[0m\u001b[97;49mC\u001b[0m\u001b[97;49m \u001b[0m\u001b[91;49m=\u001b[0m\u001b[97;49m \u001b[0m\u001b[97;49m[\u001b[0m\u001b[97;49m[\u001b[0m\u001b[37;49m0\u001b[0m\u001b[97;49m \u001b[0m\u001b[96;49mfor\u001b[0m\u001b[97;49m \u001b[0m\u001b[97;49mx\u001b[0m\u001b[97;49m \u001b[0m\u001b[91;49min\u001b[0m\u001b[97;49m \u001b[0m\u001b[97;49mrange\u001b[0m\u001b[97;49m(\u001b[0m\u001b[97;49msize\u001b[0m\u001b[97;49m)\u001b[0m\u001b[97;49m]\u001b[0m\u001b[97;49m \u001b[0m\u001b[96;49mfor\u001b[0m\u001b[97;49m \u001b[0m\u001b[97;49my\u001b[0m\u001b[97;49m \u001b[0m\u001b[91;49m…\u001b[0m\n",
            "    \u001b[1;36m31\u001b[0m                                                                          \n",
            "    \u001b[1;36m32\u001b[0m         \u001b[1;36m1\u001b[0m          \u001b[1;36m4.0\u001b[0m      \u001b[1;36m4.0\u001b[0m   \u001b[37;49m# Multiply the matrices\u001b[0m                \n",
            "\u001b[1;36m0.8\u001b[0m                                      \u001b[97;49m  \u001b[0m\u001b[97;49mN\u001b[0m\u001b[97;49m \u001b[0m\u001b[91;49m=\u001b[0m\u001b[97;49m \u001b[0m\u001b[97;49msize\u001b[0m                             \n",
            "    \u001b[1;36m33\u001b[0m                                   \u001b[97;49m  \u001b[0m\u001b[97;49mstart_time\u001b[0m\u001b[97;49m \u001b[0m\u001b[91;49m=\u001b[0m\u001b[97;49m \u001b[0m\u001b[97;49mtime\u001b[0m\u001b[91;49m.\u001b[0m\u001b[97;49mtime\u001b[0m\u001b[97;49m(\u001b[0m\u001b[97;49m)\u001b[0m             \n",
            "    \u001b[1;36m34\u001b[0m                                   \u001b[97;49m  \u001b[0m\u001b[96;49mfor\u001b[0m\u001b[97;49m \u001b[0m\u001b[97;49mi\u001b[0m\u001b[97;49m \u001b[0m\u001b[91;49min\u001b[0m\u001b[97;49m \u001b[0m\u001b[97;49mrange\u001b[0m\u001b[97;49m(\u001b[0m\u001b[97;49mN\u001b[0m\u001b[97;49m)\u001b[0m\u001b[97;49m:\u001b[0m                   \n",
            "    \u001b[1;36m35\u001b[0m         \u001b[1;36m1\u001b[0m          \u001b[1;36m0.6\u001b[0m      \u001b[1;36m0.6\u001b[0m   \u001b[97;49m    \u001b[0m\u001b[96;49mfor\u001b[0m\u001b[97;49m \u001b[0m\u001b[97;49mj\u001b[0m\u001b[97;49m \u001b[0m\u001b[91;49min\u001b[0m\u001b[97;49m \u001b[0m\u001b[97;49mrange\u001b[0m\u001b[97;49m(\u001b[0m\u001b[97;49mN\u001b[0m\u001b[97;49m)\u001b[0m\u001b[97;49m:\u001b[0m                 \n",
            "\u001b[1;36m0.1\u001b[0m                                      \u001b[97;49m      \u001b[0m\u001b[96;49mfor\u001b[0m\u001b[97;49m \u001b[0m\u001b[97;49mk\u001b[0m\u001b[97;49m \u001b[0m\u001b[91;49min\u001b[0m\u001b[97;49m \u001b[0m\u001b[97;49mrange\u001b[0m\u001b[97;49m(\u001b[0m\u001b[97;49mN\u001b[0m\u001b[97;49m)\u001b[0m\u001b[97;49m:\u001b[0m               \n",
            "    \u001b[1;36m36\u001b[0m         \u001b[1;36m1\u001b[0m          \u001b[1;36m1.9\u001b[0m      \u001b[1;36m1.9\u001b[0m   \u001b[97;49m        \u001b[0m\u001b[97;49mC\u001b[0m\u001b[97;49m[\u001b[0m\u001b[97;49mi\u001b[0m\u001b[97;49m]\u001b[0m\u001b[97;49m[\u001b[0m\u001b[97;49mj\u001b[0m\u001b[97;49m]\u001b[0m\u001b[97;49m \u001b[0m\u001b[91;49m+\u001b[0m\u001b[91;49m=\u001b[0m\u001b[97;49m \u001b[0m\u001b[97;49mA\u001b[0m\u001b[97;49m[\u001b[0m\u001b[97;49mi\u001b[0m\u001b[97;49m]\u001b[0m\u001b[97;49m[\u001b[0m\u001b[97;49mk\u001b[0m\u001b[97;49m]\u001b[0m\u001b[91;49m*\u001b[0m\u001b[97;49mB\u001b[0m\u001b[97;49m[\u001b[0m\u001b[97;49mk\u001b[0m\u001b[97;49m]\u001b[0m\u001b[97;49m[\u001b[0m\u001b[97;49mj\u001b[0m\u001b[97;49m]\u001b[0m     \n",
            "\u001b[1;36m0.4\u001b[0m                                                                             \n",
            "    \u001b[1;36m37\u001b[0m         \u001b[1;36m5\u001b[0m          \u001b[1;36m2.9\u001b[0m      \u001b[1;36m0.6\u001b[0m   \u001b[97;49m  \u001b[0m\u001b[97;49mend_time\u001b[0m\u001b[97;49m \u001b[0m\u001b[91;49m=\u001b[0m\u001b[97;49m \u001b[0m\u001b[97;49mtime\u001b[0m\u001b[91;49m.\u001b[0m\u001b[97;49mtime\u001b[0m\u001b[97;49m(\u001b[0m\u001b[97;49m)\u001b[0m               \n",
            "\u001b[1;36m0.6\u001b[0m                                      \u001b[97;49m  \u001b[0m\u001b[97;49melapsed_time\u001b[0m\u001b[97;49m \u001b[0m\u001b[91;49m=\u001b[0m\u001b[97;49m \u001b[0m\u001b[97;49mend_time\u001b[0m\u001b[97;49m \u001b[0m\u001b[91;49m-\u001b[0m\u001b[97;49m \u001b[0m\u001b[97;49mstart_time\u001b[0m \n",
            "    \u001b[1;36m38\u001b[0m        \u001b[1;36m20\u001b[0m         \u001b[1;36m11.0\u001b[0m      \u001b[1;36m0.6\u001b[0m   \u001b[97;49m  \u001b[0m\u001b[37;49m# Print out the resulting matrix\u001b[0m     \n",
            "\u001b[1;36m2.2\u001b[0m                                      \u001b[97;49m  \u001b[0m\u001b[97;49mprint\u001b[0m\u001b[97;49m(\u001b[0m\u001b[93;49m\"\u001b[0m\u001b[93;49mThe resulting matrix is: \u001b[0m\u001b[93;49m\"\u001b[0m\u001b[97;49m)\u001b[0m   \n",
            "    \u001b[1;36m39\u001b[0m        \u001b[1;36m80\u001b[0m         \u001b[1;36m44.2\u001b[0m      \u001b[1;36m0.6\u001b[0m   \u001b[97;49m  \u001b[0m\u001b[96;49mfor\u001b[0m\u001b[97;49m \u001b[0m\u001b[97;49mrow\u001b[0m\u001b[97;49m \u001b[0m\u001b[91;49min\u001b[0m\u001b[97;49m \u001b[0m\u001b[97;49mC\u001b[0m\u001b[97;49m:\u001b[0m                        \n",
            "\u001b[1;36m8.7\u001b[0m                                      \u001b[97;49m      \u001b[0m\u001b[97;49mprint\u001b[0m\u001b[97;49m(\u001b[0m\u001b[97;49mrow\u001b[0m\u001b[97;49m)\u001b[0m                       \n",
            "    \u001b[1;36m40\u001b[0m        \u001b[1;36m64\u001b[0m         \u001b[1;36m41.7\u001b[0m      \u001b[1;36m0.7\u001b[0m                                          \n",
            "\u001b[1;36m8.2\u001b[0m                                      \u001b[97;49m  \u001b[0m\u001b[97;49mprint\u001b[0m\u001b[97;49m(\u001b[0m\u001b[93;49m\"\u001b[0m\u001b[93;49mTime required to carry out th…\u001b[0m\n",
            "    \u001b[1;36m41\u001b[0m                                                                          \n",
            "    \u001b[1;36m42\u001b[0m         \u001b[1;36m1\u001b[0m          \u001b[1;36m0.7\u001b[0m      \u001b[1;36m0.7\u001b[0m                                          \n",
            "\u001b[1;36m0.1\u001b[0m                                                                             \n",
            "    \u001b[1;36m43\u001b[0m         \u001b[1;36m1\u001b[0m          \u001b[1;36m0.8\u001b[0m      \u001b[1;36m0.8\u001b[0m                                          \n",
            "\u001b[1;36m0.2\u001b[0m                                                                             \n",
            "    \u001b[1;36m44\u001b[0m                                                                          \n",
            "    \u001b[1;36m45\u001b[0m         \u001b[1;36m1\u001b[0m          \u001b[1;36m9.0\u001b[0m      \u001b[1;36m9.0\u001b[0m                                          \n",
            "\u001b[1;36m1.8\u001b[0m                                                                             \n",
            "    \u001b[1;36m46\u001b[0m         \u001b[1;36m5\u001b[0m          \u001b[1;36m5.5\u001b[0m      \u001b[1;36m1.1\u001b[0m                                          \n",
            "\u001b[1;36m1.1\u001b[0m                                                                             \n",
            "    \u001b[1;36m47\u001b[0m         \u001b[1;36m4\u001b[0m         \u001b[1;36m32.4\u001b[0m      \u001b[1;36m8.1\u001b[0m                                          \n",
            "\u001b[1;36m6.4\u001b[0m                                                                             \n",
            "    \u001b[1;36m48\u001b[0m                                                                          \n",
            "    \u001b[1;36m49\u001b[0m         \u001b[1;36m1\u001b[0m         \u001b[1;36m21.8\u001b[0m     \u001b[1;36m21.8\u001b[0m                                          \n",
            "\u001b[1;36m4.3\u001b[0m                                                                             \n",
            "\n",
            "\n",
            "  \u001b[1;36m0.00\u001b[0m seconds - \u001b]8;id=507978;profile_matrix_multiplication.py\u001b\\profile_matrix_multiplication.py\u001b]8;;\u001b\\:\u001b[1;36m24\u001b[0m - matrix_multiplication\n"
          ]
        }
      ]
    },
    {
      "cell_type": "markdown",
      "source": [
        "Notice that line 40 was executed 64 times for matrices of size $4 \\times 4$"
      ],
      "metadata": {
        "id": "ehvwUCARkW0x"
      }
    },
    {
      "cell_type": "markdown",
      "source": [
        "Now, let's repeat the process with matrices of sizes $8 \\times 8$ and $12 \\times 12$."
      ],
      "metadata": {
        "id": "s3w4bqxlkciK"
      }
    },
    {
      "cell_type": "code",
      "source": [
        "!kernprof -l profile_matrix_multiplication.py A_8.Text B_8.Text"
      ],
      "metadata": {
        "colab": {
          "base_uri": "https://localhost:8080/"
        },
        "id": "xETsbHrLklUc",
        "outputId": "daca422d-5f96-4ede-b5ac-7826d943c2db"
      },
      "execution_count": 18,
      "outputs": [
        {
          "output_type": "stream",
          "name": "stdout",
          "text": [
            "The matrix contained in the file  A_8.Text  is: \n",
            "[1, 2, 3, 4, 5, 6, 7, 8]\n",
            "[9, 10, 11, 12, 13, 14, 15, 16]\n",
            "[17, 18, 19, 20, 21, 22, 23, 24]\n",
            "[25, 26, 27, 28, 29, 30, 31, 32]\n",
            "[33, 34, 35, 36, 37, 38, 39, 40]\n",
            "[41, 42, 43, 44, 45, 46, 47, 48]\n",
            "[49, 50, 51, 52, 53, 54, 55, 56]\n",
            "[57, 58, 59, 60, 61, 62, 63, 64]\n",
            "The matrix contained in the file  B_8.Text  is: \n",
            "[1, 0, 0, 0, 0, 0, 0, 0]\n",
            "[0, 1, 0, 0, 0, 0, 0, 0]\n",
            "[0, 0, 1, 0, 0, 0, 0, 0]\n",
            "[0, 0, 0, 1, 0, 0, 0, 0]\n",
            "[0, 0, 0, 0, 1, 0, 0, 0]\n",
            "[0, 0, 0, 0, 0, 1, 0, 0]\n",
            "[0, 0, 0, 0, 0, 0, 1, 0]\n",
            "[0, 0, 0, 0, 0, 0, 0, 1]\n",
            "The resulting matrix is: \n",
            "[1, 2, 3, 4, 5, 6, 7, 8]\n",
            "[9, 10, 11, 12, 13, 14, 15, 16]\n",
            "[17, 18, 19, 20, 21, 22, 23, 24]\n",
            "[25, 26, 27, 28, 29, 30, 31, 32]\n",
            "[33, 34, 35, 36, 37, 38, 39, 40]\n",
            "[41, 42, 43, 44, 45, 46, 47, 48]\n",
            "[49, 50, 51, 52, 53, 54, 55, 56]\n",
            "[57, 58, 59, 60, 61, 62, 63, 64]\n",
            "Time required to carry out the computation:  0.00115203857421875  seconds.\n",
            "Wrote profile results to 'profile_matrix_multiplication.py.lprof'\n",
            "Inspect results with:\n",
            "python3 -m line_profiler -rmt profile_matrix_multiplication.py.lprof\n"
          ]
        }
      ]
    },
    {
      "cell_type": "code",
      "source": [
        "!python3 -m line_profiler -rmt  \"profile_matrix_multiplication.py.lprof\""
      ],
      "metadata": {
        "colab": {
          "base_uri": "https://localhost:8080/"
        },
        "id": "kcVGAmTjkthM",
        "outputId": "43e40a0f-6007-4876-965d-c4e030143039"
      },
      "execution_count": 19,
      "outputs": [
        {
          "output_type": "stream",
          "name": "stdout",
          "text": [
            "Timer unit: 1e-06 s\n",
            "\n",
            "Total time: 0.00124591 s\n",
            "File: profile_matrix_multiplication.py\n",
            "Function: matrix_multiplication at line 24\n",
            "\n",
            "Line #      Hits         Time  Per Hit   % Time  Line Contents\n",
            "==============================================================\n",
            "    \u001b[1;36m24\u001b[0m                                   \u001b[92;49m@profile\u001b[0m                               \n",
            "    \u001b[1;36m25\u001b[0m                                   \u001b[96;49mdef\u001b[0m\u001b[97;49m \u001b[0m\u001b[92;49mmatrix_multiplication\u001b[0m\u001b[97;49m(\u001b[0m\u001b[97;49m)\u001b[0m\u001b[97;49m:\u001b[0m           \n",
            "    \u001b[1;36m26\u001b[0m                                   \u001b[37;49m# Read the content of the files passed…\u001b[0m\n",
            "    \u001b[1;36m27\u001b[0m                                   \u001b[37;49m# that contain the matrices to be mult…\u001b[0m\n",
            "    \u001b[1;36m28\u001b[0m         \u001b[1;36m1\u001b[0m        \u001b[1;36m253.7\u001b[0m    \u001b[1;36m253.7\u001b[0m   \u001b[97;49m  \u001b[0m\u001b[97;49mA\u001b[0m\u001b[97;49m,\u001b[0m\u001b[97;49msize\u001b[0m\u001b[97;49m \u001b[0m\u001b[91;49m=\u001b[0m\u001b[97;49m \u001b[0m\u001b[97;49mread_file\u001b[0m\u001b[97;49m(\u001b[0m\u001b[97;49msys\u001b[0m\u001b[91;49m.\u001b[0m\u001b[97;49margv\u001b[0m\u001b[97;49m[\u001b[0m\u001b[37;49m1\u001b[0m\u001b[97;49m]\u001b[0m\u001b[97;49m)\u001b[0m      \n",
            "\u001b[1;36m20.4\u001b[0m                                     \u001b[97;49m  \u001b[0m\u001b[97;49mB\u001b[0m\u001b[97;49m,\u001b[0m\u001b[97;49msize\u001b[0m\u001b[97;49m \u001b[0m\u001b[91;49m=\u001b[0m\u001b[97;49m \u001b[0m\u001b[97;49mread_file\u001b[0m\u001b[97;49m(\u001b[0m\u001b[97;49msys\u001b[0m\u001b[91;49m.\u001b[0m\u001b[97;49margv\u001b[0m\u001b[97;49m[\u001b[0m\u001b[37;49m2\u001b[0m\u001b[97;49m]\u001b[0m\u001b[97;49m)\u001b[0m      \n",
            "    \u001b[1;36m29\u001b[0m         \u001b[1;36m1\u001b[0m        \u001b[1;36m191.7\u001b[0m    \u001b[1;36m191.7\u001b[0m                                          \n",
            "\u001b[1;36m15.4\u001b[0m                                     \u001b[37;49m# Initialize the result matrix to 0s\u001b[0m   \n",
            "    \u001b[1;36m30\u001b[0m                                   \u001b[97;49m  \u001b[0m\u001b[97;49mC\u001b[0m\u001b[97;49m \u001b[0m\u001b[91;49m=\u001b[0m\u001b[97;49m \u001b[0m\u001b[97;49m[\u001b[0m\u001b[97;49m[\u001b[0m\u001b[37;49m0\u001b[0m\u001b[97;49m \u001b[0m\u001b[96;49mfor\u001b[0m\u001b[97;49m \u001b[0m\u001b[97;49mx\u001b[0m\u001b[97;49m \u001b[0m\u001b[91;49min\u001b[0m\u001b[97;49m \u001b[0m\u001b[97;49mrange\u001b[0m\u001b[97;49m(\u001b[0m\u001b[97;49msize\u001b[0m\u001b[97;49m)\u001b[0m\u001b[97;49m]\u001b[0m\u001b[97;49m \u001b[0m\u001b[96;49mfor\u001b[0m\u001b[97;49m \u001b[0m\u001b[97;49my\u001b[0m\u001b[97;49m \u001b[0m\u001b[91;49m…\u001b[0m\n",
            "    \u001b[1;36m31\u001b[0m                                                                          \n",
            "    \u001b[1;36m32\u001b[0m         \u001b[1;36m1\u001b[0m         \u001b[1;36m11.4\u001b[0m     \u001b[1;36m11.4\u001b[0m   \u001b[37;49m# Multiply the matrices\u001b[0m                \n",
            "\u001b[1;36m0.9\u001b[0m                                      \u001b[97;49m  \u001b[0m\u001b[97;49mN\u001b[0m\u001b[97;49m \u001b[0m\u001b[91;49m=\u001b[0m\u001b[97;49m \u001b[0m\u001b[97;49msize\u001b[0m                             \n",
            "    \u001b[1;36m33\u001b[0m                                   \u001b[97;49m  \u001b[0m\u001b[97;49mstart_time\u001b[0m\u001b[97;49m \u001b[0m\u001b[91;49m=\u001b[0m\u001b[97;49m \u001b[0m\u001b[97;49mtime\u001b[0m\u001b[91;49m.\u001b[0m\u001b[97;49mtime\u001b[0m\u001b[97;49m(\u001b[0m\u001b[97;49m)\u001b[0m             \n",
            "    \u001b[1;36m34\u001b[0m                                   \u001b[97;49m  \u001b[0m\u001b[96;49mfor\u001b[0m\u001b[97;49m \u001b[0m\u001b[97;49mi\u001b[0m\u001b[97;49m \u001b[0m\u001b[91;49min\u001b[0m\u001b[97;49m \u001b[0m\u001b[97;49mrange\u001b[0m\u001b[97;49m(\u001b[0m\u001b[97;49mN\u001b[0m\u001b[97;49m)\u001b[0m\u001b[97;49m:\u001b[0m                   \n",
            "    \u001b[1;36m35\u001b[0m         \u001b[1;36m1\u001b[0m          \u001b[1;36m0.6\u001b[0m      \u001b[1;36m0.6\u001b[0m   \u001b[97;49m    \u001b[0m\u001b[96;49mfor\u001b[0m\u001b[97;49m \u001b[0m\u001b[97;49mj\u001b[0m\u001b[97;49m \u001b[0m\u001b[91;49min\u001b[0m\u001b[97;49m \u001b[0m\u001b[97;49mrange\u001b[0m\u001b[97;49m(\u001b[0m\u001b[97;49mN\u001b[0m\u001b[97;49m)\u001b[0m\u001b[97;49m:\u001b[0m                 \n",
            "\u001b[1;36m0.1\u001b[0m                                      \u001b[97;49m      \u001b[0m\u001b[96;49mfor\u001b[0m\u001b[97;49m \u001b[0m\u001b[97;49mk\u001b[0m\u001b[97;49m \u001b[0m\u001b[91;49min\u001b[0m\u001b[97;49m \u001b[0m\u001b[97;49mrange\u001b[0m\u001b[97;49m(\u001b[0m\u001b[97;49mN\u001b[0m\u001b[97;49m)\u001b[0m\u001b[97;49m:\u001b[0m               \n",
            "    \u001b[1;36m36\u001b[0m         \u001b[1;36m1\u001b[0m          \u001b[1;36m2.0\u001b[0m      \u001b[1;36m2.0\u001b[0m   \u001b[97;49m        \u001b[0m\u001b[97;49mC\u001b[0m\u001b[97;49m[\u001b[0m\u001b[97;49mi\u001b[0m\u001b[97;49m]\u001b[0m\u001b[97;49m[\u001b[0m\u001b[97;49mj\u001b[0m\u001b[97;49m]\u001b[0m\u001b[97;49m \u001b[0m\u001b[91;49m+\u001b[0m\u001b[91;49m=\u001b[0m\u001b[97;49m \u001b[0m\u001b[97;49mA\u001b[0m\u001b[97;49m[\u001b[0m\u001b[97;49mi\u001b[0m\u001b[97;49m]\u001b[0m\u001b[97;49m[\u001b[0m\u001b[97;49mk\u001b[0m\u001b[97;49m]\u001b[0m\u001b[91;49m*\u001b[0m\u001b[97;49mB\u001b[0m\u001b[97;49m[\u001b[0m\u001b[97;49mk\u001b[0m\u001b[97;49m]\u001b[0m\u001b[97;49m[\u001b[0m\u001b[97;49mj\u001b[0m\u001b[97;49m]\u001b[0m     \n",
            "\u001b[1;36m0.2\u001b[0m                                                                             \n",
            "    \u001b[1;36m37\u001b[0m         \u001b[1;36m9\u001b[0m          \u001b[1;36m5.1\u001b[0m      \u001b[1;36m0.6\u001b[0m   \u001b[97;49m  \u001b[0m\u001b[97;49mend_time\u001b[0m\u001b[97;49m \u001b[0m\u001b[91;49m=\u001b[0m\u001b[97;49m \u001b[0m\u001b[97;49mtime\u001b[0m\u001b[91;49m.\u001b[0m\u001b[97;49mtime\u001b[0m\u001b[97;49m(\u001b[0m\u001b[97;49m)\u001b[0m               \n",
            "\u001b[1;36m0.4\u001b[0m                                      \u001b[97;49m  \u001b[0m\u001b[97;49melapsed_time\u001b[0m\u001b[97;49m \u001b[0m\u001b[91;49m=\u001b[0m\u001b[97;49m \u001b[0m\u001b[97;49mend_time\u001b[0m\u001b[97;49m \u001b[0m\u001b[91;49m-\u001b[0m\u001b[97;49m \u001b[0m\u001b[97;49mstart_time\u001b[0m \n",
            "    \u001b[1;36m38\u001b[0m        \u001b[1;36m72\u001b[0m         \u001b[1;36m39.6\u001b[0m      \u001b[1;36m0.5\u001b[0m   \u001b[97;49m  \u001b[0m\u001b[37;49m# Print out the resulting matrix\u001b[0m     \n",
            "\u001b[1;36m3.2\u001b[0m                                      \u001b[97;49m  \u001b[0m\u001b[97;49mprint\u001b[0m\u001b[97;49m(\u001b[0m\u001b[93;49m\"\u001b[0m\u001b[93;49mThe resulting matrix is: \u001b[0m\u001b[93;49m\"\u001b[0m\u001b[97;49m)\u001b[0m   \n",
            "    \u001b[1;36m39\u001b[0m       \u001b[1;36m576\u001b[0m        \u001b[1;36m335.9\u001b[0m      \u001b[1;36m0.6\u001b[0m   \u001b[97;49m  \u001b[0m\u001b[96;49mfor\u001b[0m\u001b[97;49m \u001b[0m\u001b[97;49mrow\u001b[0m\u001b[97;49m \u001b[0m\u001b[91;49min\u001b[0m\u001b[97;49m \u001b[0m\u001b[97;49mC\u001b[0m\u001b[97;49m:\u001b[0m                        \n",
            "\u001b[1;36m27.0\u001b[0m                                     \u001b[97;49m      \u001b[0m\u001b[97;49mprint\u001b[0m\u001b[97;49m(\u001b[0m\u001b[97;49mrow\u001b[0m\u001b[97;49m)\u001b[0m                       \n",
            "    \u001b[1;36m40\u001b[0m       \u001b[1;36m512\u001b[0m        \u001b[1;36m322.2\u001b[0m      \u001b[1;36m0.6\u001b[0m                                          \n",
            "\u001b[1;36m25.9\u001b[0m                                     \u001b[97;49m  \u001b[0m\u001b[97;49mprint\u001b[0m\u001b[97;49m(\u001b[0m\u001b[93;49m\"\u001b[0m\u001b[93;49mTime required to carry out th…\u001b[0m\n",
            "    \u001b[1;36m41\u001b[0m                                                                          \n",
            "    \u001b[1;36m42\u001b[0m         \u001b[1;36m1\u001b[0m          \u001b[1;36m1.1\u001b[0m      \u001b[1;36m1.1\u001b[0m                                          \n",
            "\u001b[1;36m0.1\u001b[0m                                                                             \n",
            "    \u001b[1;36m43\u001b[0m         \u001b[1;36m1\u001b[0m          \u001b[1;36m0.9\u001b[0m      \u001b[1;36m0.9\u001b[0m                                          \n",
            "\u001b[1;36m0.1\u001b[0m                                                                             \n",
            "    \u001b[1;36m44\u001b[0m                                                                          \n",
            "    \u001b[1;36m45\u001b[0m         \u001b[1;36m1\u001b[0m         \u001b[1;36m11.9\u001b[0m     \u001b[1;36m11.9\u001b[0m                                          \n",
            "\u001b[1;36m1.0\u001b[0m                                                                             \n",
            "    \u001b[1;36m46\u001b[0m         \u001b[1;36m9\u001b[0m          \u001b[1;36m8.8\u001b[0m      \u001b[1;36m1.0\u001b[0m                                          \n",
            "\u001b[1;36m0.7\u001b[0m                                                                             \n",
            "    \u001b[1;36m47\u001b[0m         \u001b[1;36m8\u001b[0m         \u001b[1;36m44.9\u001b[0m      \u001b[1;36m5.6\u001b[0m                                          \n",
            "\u001b[1;36m3.6\u001b[0m                                                                             \n",
            "    \u001b[1;36m48\u001b[0m                                                                          \n",
            "    \u001b[1;36m49\u001b[0m         \u001b[1;36m1\u001b[0m         \u001b[1;36m16.2\u001b[0m     \u001b[1;36m16.2\u001b[0m                                          \n",
            "\u001b[1;36m1.3\u001b[0m                                                                             \n",
            "\n",
            "\n",
            "  \u001b[1;36m0.00\u001b[0m seconds - \u001b]8;id=960156;profile_matrix_multiplication.py\u001b\\profile_matrix_multiplication.py\u001b]8;;\u001b\\:\u001b[1;36m24\u001b[0m - matrix_multiplication\n"
          ]
        }
      ]
    },
    {
      "cell_type": "markdown",
      "source": [
        "Observe that for matrices of size $8 \\times 8$, line 40 was now executed 512 times."
      ],
      "metadata": {
        "id": "_EDDnRYVkwVT"
      }
    },
    {
      "cell_type": "code",
      "source": [
        "!kernprof -l profile_matrix_multiplication.py A_12.Text B_12.Text"
      ],
      "metadata": {
        "colab": {
          "base_uri": "https://localhost:8080/"
        },
        "id": "pfhDcpYLk3iK",
        "outputId": "ade24b9f-c000-4edf-a005-96d97050d2a1"
      },
      "execution_count": 20,
      "outputs": [
        {
          "output_type": "stream",
          "name": "stdout",
          "text": [
            "The matrix contained in the file  A_12.Text  is: \n",
            "[1, 2, 3, 4, 5, 6, 7, 8, 9, 10, 11, 12]\n",
            "[13, 14, 15, 16, 17, 18, 19, 20, 21, 22, 23, 24]\n",
            "[25, 26, 27, 28, 29, 30, 31, 32, 33, 34, 35, 36]\n",
            "[37, 38, 39, 40, 41, 42, 43, 44, 45, 46, 47, 48]\n",
            "[49, 50, 51, 52, 53, 54, 55, 56, 57, 58, 59, 60]\n",
            "[61, 62, 63, 64, 65, 66, 67, 68, 69, 70, 71, 72]\n",
            "[73, 74, 75, 76, 77, 78, 79, 80, 81, 82, 83, 84]\n",
            "[85, 86, 87, 88, 89, 90, 91, 92, 93, 94, 95, 96]\n",
            "[97, 98, 99, 100, 101, 102, 103, 104, 105, 106, 107, 108]\n",
            "[109, 110, 111, 112, 113, 114, 115, 116, 117, 118, 119, 120]\n",
            "[121, 122, 123, 124, 125, 126, 127, 128, 129, 130, 131, 132]\n",
            "[133, 134, 135, 136, 137, 138, 139, 140, 141, 142, 143, 144]\n",
            "The matrix contained in the file  B_12.Text  is: \n",
            "[1, 0, 0, 0, 0, 0, 0, 0, 0, 0, 0, 0]\n",
            "[0, 1, 0, 0, 0, 0, 0, 0, 0, 0, 0, 0]\n",
            "[0, 0, 1, 0, 0, 0, 0, 0, 0, 0, 0, 0]\n",
            "[0, 0, 0, 1, 0, 0, 0, 0, 0, 0, 0, 0]\n",
            "[0, 0, 0, 0, 1, 0, 0, 0, 0, 0, 0, 0]\n",
            "[0, 0, 0, 0, 0, 1, 0, 0, 0, 0, 0, 0]\n",
            "[0, 0, 0, 0, 0, 0, 1, 0, 0, 0, 0, 0]\n",
            "[0, 0, 0, 0, 0, 0, 0, 1, 0, 0, 0, 0]\n",
            "[0, 0, 0, 0, 0, 0, 0, 0, 1, 0, 0, 0]\n",
            "[0, 0, 0, 0, 0, 0, 0, 0, 0, 1, 0, 0]\n",
            "[0, 0, 0, 0, 0, 0, 0, 0, 0, 0, 1, 0]\n",
            "[0, 0, 0, 0, 0, 0, 0, 0, 0, 0, 0, 1]\n",
            "The resulting matrix is: \n",
            "[1, 2, 3, 4, 5, 6, 7, 8, 9, 10, 11, 12]\n",
            "[13, 14, 15, 16, 17, 18, 19, 20, 21, 22, 23, 24]\n",
            "[25, 26, 27, 28, 29, 30, 31, 32, 33, 34, 35, 36]\n",
            "[37, 38, 39, 40, 41, 42, 43, 44, 45, 46, 47, 48]\n",
            "[49, 50, 51, 52, 53, 54, 55, 56, 57, 58, 59, 60]\n",
            "[61, 62, 63, 64, 65, 66, 67, 68, 69, 70, 71, 72]\n",
            "[73, 74, 75, 76, 77, 78, 79, 80, 81, 82, 83, 84]\n",
            "[85, 86, 87, 88, 89, 90, 91, 92, 93, 94, 95, 96]\n",
            "[97, 98, 99, 100, 101, 102, 103, 104, 105, 106, 107, 108]\n",
            "[109, 110, 111, 112, 113, 114, 115, 116, 117, 118, 119, 120]\n",
            "[121, 122, 123, 124, 125, 126, 127, 128, 129, 130, 131, 132]\n",
            "[133, 134, 135, 136, 137, 138, 139, 140, 141, 142, 143, 144]\n",
            "Time required to carry out the computation:  0.004040241241455078  seconds.\n",
            "Wrote profile results to 'profile_matrix_multiplication.py.lprof'\n",
            "Inspect results with:\n",
            "python3 -m line_profiler -rmt profile_matrix_multiplication.py.lprof\n"
          ]
        }
      ]
    },
    {
      "cell_type": "code",
      "source": [
        "!python3 -m line_profiler -rmt  \"profile_matrix_multiplication.py.lprof\""
      ],
      "metadata": {
        "colab": {
          "base_uri": "https://localhost:8080/"
        },
        "id": "EYnmQYCUlfci",
        "outputId": "849f7fcd-12a6-4efb-e03d-bc0805dcf7d1"
      },
      "execution_count": 21,
      "outputs": [
        {
          "output_type": "stream",
          "name": "stdout",
          "text": [
            "Timer unit: 1e-06 s\n",
            "\n",
            "Total time: 0.00340754 s\n",
            "File: profile_matrix_multiplication.py\n",
            "Function: matrix_multiplication at line 24\n",
            "\n",
            "Line #      Hits         Time  Per Hit   % Time  Line Contents\n",
            "==============================================================\n",
            "    \u001b[1;36m24\u001b[0m                                   \u001b[92;49m@profile\u001b[0m                               \n",
            "    \u001b[1;36m25\u001b[0m                                   \u001b[96;49mdef\u001b[0m\u001b[97;49m \u001b[0m\u001b[92;49mmatrix_multiplication\u001b[0m\u001b[97;49m(\u001b[0m\u001b[97;49m)\u001b[0m\u001b[97;49m:\u001b[0m           \n",
            "    \u001b[1;36m26\u001b[0m                                   \u001b[37;49m# Read the content of the files passed…\u001b[0m\n",
            "    \u001b[1;36m27\u001b[0m                                   \u001b[37;49m# that contain the matrices to be mult…\u001b[0m\n",
            "    \u001b[1;36m28\u001b[0m         \u001b[1;36m1\u001b[0m        \u001b[1;36m331.1\u001b[0m    \u001b[1;36m331.1\u001b[0m   \u001b[97;49m  \u001b[0m\u001b[97;49mA\u001b[0m\u001b[97;49m,\u001b[0m\u001b[97;49msize\u001b[0m\u001b[97;49m \u001b[0m\u001b[91;49m=\u001b[0m\u001b[97;49m \u001b[0m\u001b[97;49mread_file\u001b[0m\u001b[97;49m(\u001b[0m\u001b[97;49msys\u001b[0m\u001b[91;49m.\u001b[0m\u001b[97;49margv\u001b[0m\u001b[97;49m[\u001b[0m\u001b[37;49m1\u001b[0m\u001b[97;49m]\u001b[0m\u001b[97;49m)\u001b[0m      \n",
            "\u001b[1;36m9.7\u001b[0m                                      \u001b[97;49m  \u001b[0m\u001b[97;49mB\u001b[0m\u001b[97;49m,\u001b[0m\u001b[97;49msize\u001b[0m\u001b[97;49m \u001b[0m\u001b[91;49m=\u001b[0m\u001b[97;49m \u001b[0m\u001b[97;49mread_file\u001b[0m\u001b[97;49m(\u001b[0m\u001b[97;49msys\u001b[0m\u001b[91;49m.\u001b[0m\u001b[97;49margv\u001b[0m\u001b[97;49m[\u001b[0m\u001b[37;49m2\u001b[0m\u001b[97;49m]\u001b[0m\u001b[97;49m)\u001b[0m      \n",
            "    \u001b[1;36m29\u001b[0m         \u001b[1;36m1\u001b[0m        \u001b[1;36m240.2\u001b[0m    \u001b[1;36m240.2\u001b[0m                                          \n",
            "\u001b[1;36m7.1\u001b[0m                                      \u001b[37;49m# Initialize the result matrix to 0s\u001b[0m   \n",
            "    \u001b[1;36m30\u001b[0m                                   \u001b[97;49m  \u001b[0m\u001b[97;49mC\u001b[0m\u001b[97;49m \u001b[0m\u001b[91;49m=\u001b[0m\u001b[97;49m \u001b[0m\u001b[97;49m[\u001b[0m\u001b[97;49m[\u001b[0m\u001b[37;49m0\u001b[0m\u001b[97;49m \u001b[0m\u001b[96;49mfor\u001b[0m\u001b[97;49m \u001b[0m\u001b[97;49mx\u001b[0m\u001b[97;49m \u001b[0m\u001b[91;49min\u001b[0m\u001b[97;49m \u001b[0m\u001b[97;49mrange\u001b[0m\u001b[97;49m(\u001b[0m\u001b[97;49msize\u001b[0m\u001b[97;49m)\u001b[0m\u001b[97;49m]\u001b[0m\u001b[97;49m \u001b[0m\u001b[96;49mfor\u001b[0m\u001b[97;49m \u001b[0m\u001b[97;49my\u001b[0m\u001b[97;49m \u001b[0m\u001b[91;49m…\u001b[0m\n",
            "    \u001b[1;36m31\u001b[0m                                                                          \n",
            "    \u001b[1;36m32\u001b[0m         \u001b[1;36m1\u001b[0m         \u001b[1;36m32.9\u001b[0m     \u001b[1;36m32.9\u001b[0m   \u001b[37;49m# Multiply the matrices\u001b[0m                \n",
            "\u001b[1;36m1.0\u001b[0m                                      \u001b[97;49m  \u001b[0m\u001b[97;49mN\u001b[0m\u001b[97;49m \u001b[0m\u001b[91;49m=\u001b[0m\u001b[97;49m \u001b[0m\u001b[97;49msize\u001b[0m                             \n",
            "    \u001b[1;36m33\u001b[0m                                   \u001b[97;49m  \u001b[0m\u001b[97;49mstart_time\u001b[0m\u001b[97;49m \u001b[0m\u001b[91;49m=\u001b[0m\u001b[97;49m \u001b[0m\u001b[97;49mtime\u001b[0m\u001b[91;49m.\u001b[0m\u001b[97;49mtime\u001b[0m\u001b[97;49m(\u001b[0m\u001b[97;49m)\u001b[0m             \n",
            "    \u001b[1;36m34\u001b[0m                                   \u001b[97;49m  \u001b[0m\u001b[96;49mfor\u001b[0m\u001b[97;49m \u001b[0m\u001b[97;49mi\u001b[0m\u001b[97;49m \u001b[0m\u001b[91;49min\u001b[0m\u001b[97;49m \u001b[0m\u001b[97;49mrange\u001b[0m\u001b[97;49m(\u001b[0m\u001b[97;49mN\u001b[0m\u001b[97;49m)\u001b[0m\u001b[97;49m:\u001b[0m                   \n",
            "    \u001b[1;36m35\u001b[0m         \u001b[1;36m1\u001b[0m          \u001b[1;36m1.2\u001b[0m      \u001b[1;36m1.2\u001b[0m   \u001b[97;49m    \u001b[0m\u001b[96;49mfor\u001b[0m\u001b[97;49m \u001b[0m\u001b[97;49mj\u001b[0m\u001b[97;49m \u001b[0m\u001b[91;49min\u001b[0m\u001b[97;49m \u001b[0m\u001b[97;49mrange\u001b[0m\u001b[97;49m(\u001b[0m\u001b[97;49mN\u001b[0m\u001b[97;49m)\u001b[0m\u001b[97;49m:\u001b[0m                 \n",
            "\u001b[1;36m0.0\u001b[0m                                      \u001b[97;49m      \u001b[0m\u001b[96;49mfor\u001b[0m\u001b[97;49m \u001b[0m\u001b[97;49mk\u001b[0m\u001b[97;49m \u001b[0m\u001b[91;49min\u001b[0m\u001b[97;49m \u001b[0m\u001b[97;49mrange\u001b[0m\u001b[97;49m(\u001b[0m\u001b[97;49mN\u001b[0m\u001b[97;49m)\u001b[0m\u001b[97;49m:\u001b[0m               \n",
            "    \u001b[1;36m36\u001b[0m         \u001b[1;36m1\u001b[0m          \u001b[1;36m2.6\u001b[0m      \u001b[1;36m2.6\u001b[0m   \u001b[97;49m        \u001b[0m\u001b[97;49mC\u001b[0m\u001b[97;49m[\u001b[0m\u001b[97;49mi\u001b[0m\u001b[97;49m]\u001b[0m\u001b[97;49m[\u001b[0m\u001b[97;49mj\u001b[0m\u001b[97;49m]\u001b[0m\u001b[97;49m \u001b[0m\u001b[91;49m+\u001b[0m\u001b[91;49m=\u001b[0m\u001b[97;49m \u001b[0m\u001b[97;49mA\u001b[0m\u001b[97;49m[\u001b[0m\u001b[97;49mi\u001b[0m\u001b[97;49m]\u001b[0m\u001b[97;49m[\u001b[0m\u001b[97;49mk\u001b[0m\u001b[97;49m]\u001b[0m\u001b[91;49m*\u001b[0m\u001b[97;49mB\u001b[0m\u001b[97;49m[\u001b[0m\u001b[97;49mk\u001b[0m\u001b[97;49m]\u001b[0m\u001b[97;49m[\u001b[0m\u001b[97;49mj\u001b[0m\u001b[97;49m]\u001b[0m     \n",
            "\u001b[1;36m0.1\u001b[0m                                                                             \n",
            "    \u001b[1;36m37\u001b[0m        \u001b[1;36m13\u001b[0m          \u001b[1;36m9.1\u001b[0m      \u001b[1;36m0.7\u001b[0m   \u001b[97;49m  \u001b[0m\u001b[97;49mend_time\u001b[0m\u001b[97;49m \u001b[0m\u001b[91;49m=\u001b[0m\u001b[97;49m \u001b[0m\u001b[97;49mtime\u001b[0m\u001b[91;49m.\u001b[0m\u001b[97;49mtime\u001b[0m\u001b[97;49m(\u001b[0m\u001b[97;49m)\u001b[0m               \n",
            "\u001b[1;36m0.3\u001b[0m                                      \u001b[97;49m  \u001b[0m\u001b[97;49melapsed_time\u001b[0m\u001b[97;49m \u001b[0m\u001b[91;49m=\u001b[0m\u001b[97;49m \u001b[0m\u001b[97;49mend_time\u001b[0m\u001b[97;49m \u001b[0m\u001b[91;49m-\u001b[0m\u001b[97;49m \u001b[0m\u001b[97;49mstart_time\u001b[0m \n",
            "    \u001b[1;36m38\u001b[0m       \u001b[1;36m156\u001b[0m         \u001b[1;36m92.2\u001b[0m      \u001b[1;36m0.6\u001b[0m   \u001b[97;49m  \u001b[0m\u001b[37;49m# Print out the resulting matrix\u001b[0m     \n",
            "\u001b[1;36m2.7\u001b[0m                                      \u001b[97;49m  \u001b[0m\u001b[97;49mprint\u001b[0m\u001b[97;49m(\u001b[0m\u001b[93;49m\"\u001b[0m\u001b[93;49mThe resulting matrix is: \u001b[0m\u001b[93;49m\"\u001b[0m\u001b[97;49m)\u001b[0m   \n",
            "    \u001b[1;36m39\u001b[0m      \u001b[1;36m1872\u001b[0m       \u001b[1;36m1278.9\u001b[0m      \u001b[1;36m0.7\u001b[0m   \u001b[97;49m  \u001b[0m\u001b[96;49mfor\u001b[0m\u001b[97;49m \u001b[0m\u001b[97;49mrow\u001b[0m\u001b[97;49m \u001b[0m\u001b[91;49min\u001b[0m\u001b[97;49m \u001b[0m\u001b[97;49mC\u001b[0m\u001b[97;49m:\u001b[0m                        \n",
            "\u001b[1;36m37.5\u001b[0m                                     \u001b[97;49m      \u001b[0m\u001b[97;49mprint\u001b[0m\u001b[97;49m(\u001b[0m\u001b[97;49mrow\u001b[0m\u001b[97;49m)\u001b[0m                       \n",
            "    \u001b[1;36m40\u001b[0m      \u001b[1;36m1728\u001b[0m       \u001b[1;36m1201.9\u001b[0m      \u001b[1;36m0.7\u001b[0m                                          \n",
            "\u001b[1;36m35.3\u001b[0m                                     \u001b[97;49m  \u001b[0m\u001b[97;49mprint\u001b[0m\u001b[97;49m(\u001b[0m\u001b[93;49m\"\u001b[0m\u001b[93;49mTime required to carry out th…\u001b[0m\n",
            "    \u001b[1;36m41\u001b[0m                                                                          \n",
            "    \u001b[1;36m42\u001b[0m         \u001b[1;36m1\u001b[0m          \u001b[1;36m4.0\u001b[0m      \u001b[1;36m4.0\u001b[0m                                          \n",
            "\u001b[1;36m0.1\u001b[0m                                                                             \n",
            "    \u001b[1;36m43\u001b[0m         \u001b[1;36m1\u001b[0m          \u001b[1;36m1.1\u001b[0m      \u001b[1;36m1.1\u001b[0m                                          \n",
            "\u001b[1;36m0.0\u001b[0m                                                                             \n",
            "    \u001b[1;36m44\u001b[0m                                                                          \n",
            "    \u001b[1;36m45\u001b[0m         \u001b[1;36m1\u001b[0m         \u001b[1;36m41.3\u001b[0m     \u001b[1;36m41.3\u001b[0m                                          \n",
            "\u001b[1;36m1.2\u001b[0m                                                                             \n",
            "    \u001b[1;36m46\u001b[0m        \u001b[1;36m13\u001b[0m         \u001b[1;36m17.8\u001b[0m      \u001b[1;36m1.4\u001b[0m                                          \n",
            "\u001b[1;36m0.5\u001b[0m                                                                             \n",
            "    \u001b[1;36m47\u001b[0m        \u001b[1;36m12\u001b[0m        \u001b[1;36m127.5\u001b[0m     \u001b[1;36m10.6\u001b[0m                                          \n",
            "\u001b[1;36m3.7\u001b[0m                                                                             \n",
            "    \u001b[1;36m48\u001b[0m                                                                          \n",
            "    \u001b[1;36m49\u001b[0m         \u001b[1;36m1\u001b[0m         \u001b[1;36m25.8\u001b[0m     \u001b[1;36m25.8\u001b[0m                                          \n",
            "\u001b[1;36m0.8\u001b[0m                                                                             \n",
            "\n",
            "\n",
            "  \u001b[1;36m0.00\u001b[0m seconds - \u001b]8;id=602298;profile_matrix_multiplication.py\u001b\\profile_matrix_multiplication.py\u001b]8;;\u001b\\:\u001b[1;36m24\u001b[0m - matrix_multiplication\n"
          ]
        }
      ]
    },
    {
      "cell_type": "markdown",
      "source": [
        "Now, line 40 has been executed 1728 times."
      ],
      "metadata": {
        "id": "0wAopZUHllbi"
      }
    },
    {
      "cell_type": "code",
      "source": [
        "!kernprof -l profile_matrix_multiplication.py A_16.Text B_16.Text"
      ],
      "metadata": {
        "colab": {
          "base_uri": "https://localhost:8080/"
        },
        "id": "weJnymXQpAk1",
        "outputId": "c1efe2e3-cbc3-4b86-a738-d4dff966b8c7"
      },
      "execution_count": 22,
      "outputs": [
        {
          "output_type": "stream",
          "name": "stdout",
          "text": [
            "The matrix contained in the file  A_16.Text  is: \n",
            "[1, 2, 3, 4, 5, 6, 7, 8, 9, 10, 11, 12, 13, 14, 15, 16]\n",
            "[17, 18, 19, 20, 21, 22, 23, 24, 25, 26, 27, 28, 29, 30, 31, 32]\n",
            "[33, 34, 35, 36, 37, 38, 39, 40, 41, 42, 43, 44, 45, 46, 47, 48]\n",
            "[49, 50, 51, 52, 53, 54, 55, 56, 57, 58, 59, 60, 61, 62, 63, 64]\n",
            "[65, 66, 67, 68, 69, 70, 71, 72, 73, 74, 75, 76, 77, 78, 79, 80]\n",
            "[81, 82, 83, 84, 85, 86, 87, 88, 89, 90, 91, 92, 93, 94, 95, 96]\n",
            "[97, 98, 99, 100, 101, 102, 103, 104, 105, 106, 107, 108, 109, 110, 111, 112]\n",
            "[113, 114, 115, 116, 117, 118, 119, 120, 121, 122, 123, 124, 125, 126, 127, 128]\n",
            "[129, 130, 131, 132, 133, 134, 135, 136, 137, 138, 139, 140, 141, 142, 143, 144]\n",
            "[145, 146, 147, 148, 149, 150, 151, 152, 153, 154, 155, 156, 157, 158, 159, 160]\n",
            "[161, 162, 163, 164, 165, 166, 167, 168, 169, 170, 171, 172, 173, 174, 175, 176]\n",
            "[177, 178, 179, 180, 181, 182, 183, 184, 185, 186, 187, 188, 189, 190, 191, 192]\n",
            "[193, 194, 195, 196, 197, 198, 199, 200, 201, 202, 203, 204, 205, 206, 207, 208]\n",
            "[209, 210, 211, 212, 213, 214, 215, 216, 217, 218, 219, 220, 221, 222, 223, 224]\n",
            "[225, 226, 227, 228, 229, 230, 231, 232, 233, 234, 235, 236, 237, 238, 239, 240]\n",
            "[241, 242, 243, 244, 245, 246, 247, 248, 249, 250, 251, 252, 253, 254, 255, 256]\n",
            "The matrix contained in the file  B_16.Text  is: \n",
            "[1, 0, 0, 0, 0, 0, 0, 0, 0, 0, 0, 0, 0, 0, 0, 0]\n",
            "[0, 1, 0, 0, 0, 0, 0, 0, 0, 0, 0, 0, 0, 0, 0, 0]\n",
            "[0, 0, 1, 0, 0, 0, 0, 0, 0, 0, 0, 0, 0, 0, 0, 0]\n",
            "[0, 0, 0, 1, 0, 0, 0, 0, 0, 0, 0, 0, 0, 0, 0, 0]\n",
            "[0, 0, 0, 0, 1, 0, 0, 0, 0, 0, 0, 0, 0, 0, 0, 0]\n",
            "[0, 0, 0, 0, 0, 1, 0, 0, 0, 0, 0, 0, 0, 0, 0, 0]\n",
            "[0, 0, 0, 0, 0, 0, 1, 0, 0, 0, 0, 0, 0, 0, 0, 0]\n",
            "[0, 0, 0, 0, 0, 0, 0, 1, 0, 0, 0, 0, 0, 0, 0, 0]\n",
            "[0, 0, 0, 0, 0, 0, 0, 0, 1, 0, 0, 0, 0, 0, 0, 0]\n",
            "[0, 0, 0, 0, 0, 0, 0, 0, 0, 1, 0, 0, 0, 0, 0, 0]\n",
            "[0, 0, 0, 0, 0, 0, 0, 0, 0, 0, 1, 0, 0, 0, 0, 0]\n",
            "[0, 0, 0, 0, 0, 0, 0, 0, 0, 0, 0, 1, 0, 0, 0, 0]\n",
            "[0, 0, 0, 0, 0, 0, 0, 0, 0, 0, 0, 0, 1, 0, 0, 0]\n",
            "[0, 0, 0, 0, 0, 0, 0, 0, 0, 0, 0, 0, 0, 1, 0, 0]\n",
            "[0, 0, 0, 0, 0, 0, 0, 0, 0, 0, 0, 0, 0, 0, 1, 0]\n",
            "[0, 0, 0, 0, 0, 0, 0, 0, 0, 0, 0, 0, 0, 0, 0, 1]\n",
            "The resulting matrix is: \n",
            "[1, 2, 3, 4, 5, 6, 7, 8, 9, 10, 11, 12, 13, 14, 15, 16]\n",
            "[17, 18, 19, 20, 21, 22, 23, 24, 25, 26, 27, 28, 29, 30, 31, 32]\n",
            "[33, 34, 35, 36, 37, 38, 39, 40, 41, 42, 43, 44, 45, 46, 47, 48]\n",
            "[49, 50, 51, 52, 53, 54, 55, 56, 57, 58, 59, 60, 61, 62, 63, 64]\n",
            "[65, 66, 67, 68, 69, 70, 71, 72, 73, 74, 75, 76, 77, 78, 79, 80]\n",
            "[81, 82, 83, 84, 85, 86, 87, 88, 89, 90, 91, 92, 93, 94, 95, 96]\n",
            "[97, 98, 99, 100, 101, 102, 103, 104, 105, 106, 107, 108, 109, 110, 111, 112]\n",
            "[113, 114, 115, 116, 117, 118, 119, 120, 121, 122, 123, 124, 125, 126, 127, 128]\n",
            "[129, 130, 131, 132, 133, 134, 135, 136, 137, 138, 139, 140, 141, 142, 143, 144]\n",
            "[145, 146, 147, 148, 149, 150, 151, 152, 153, 154, 155, 156, 157, 158, 159, 160]\n",
            "[161, 162, 163, 164, 165, 166, 167, 168, 169, 170, 171, 172, 173, 174, 175, 176]\n",
            "[177, 178, 179, 180, 181, 182, 183, 184, 185, 186, 187, 188, 189, 190, 191, 192]\n",
            "[193, 194, 195, 196, 197, 198, 199, 200, 201, 202, 203, 204, 205, 206, 207, 208]\n",
            "[209, 210, 211, 212, 213, 214, 215, 216, 217, 218, 219, 220, 221, 222, 223, 224]\n",
            "[225, 226, 227, 228, 229, 230, 231, 232, 233, 234, 235, 236, 237, 238, 239, 240]\n",
            "[241, 242, 243, 244, 245, 246, 247, 248, 249, 250, 251, 252, 253, 254, 255, 256]\n",
            "Time required to carry out the computation:  0.008561849594116211  seconds.\n",
            "Wrote profile results to 'profile_matrix_multiplication.py.lprof'\n",
            "Inspect results with:\n",
            "python3 -m line_profiler -rmt profile_matrix_multiplication.py.lprof\n"
          ]
        }
      ]
    },
    {
      "cell_type": "code",
      "source": [
        "!python3 -m line_profiler -rmt  \"profile_matrix_multiplication.py.lprof\""
      ],
      "metadata": {
        "colab": {
          "base_uri": "https://localhost:8080/"
        },
        "id": "pWwktICMpI1K",
        "outputId": "26760ff6-115d-4e0b-a521-c90f09ff1dfa"
      },
      "execution_count": 23,
      "outputs": [
        {
          "output_type": "stream",
          "name": "stdout",
          "text": [
            "Timer unit: 1e-06 s\n",
            "\n",
            "Total time: 0.00641793 s\n",
            "File: profile_matrix_multiplication.py\n",
            "Function: matrix_multiplication at line 24\n",
            "\n",
            "Line #      Hits         Time  Per Hit   % Time  Line Contents\n",
            "==============================================================\n",
            "    \u001b[1;36m24\u001b[0m                                   \u001b[92;49m@profile\u001b[0m                               \n",
            "    \u001b[1;36m25\u001b[0m                                   \u001b[96;49mdef\u001b[0m\u001b[97;49m \u001b[0m\u001b[92;49mmatrix_multiplication\u001b[0m\u001b[97;49m(\u001b[0m\u001b[97;49m)\u001b[0m\u001b[97;49m:\u001b[0m           \n",
            "    \u001b[1;36m26\u001b[0m                                   \u001b[37;49m# Read the content of the files passed…\u001b[0m\n",
            "    \u001b[1;36m27\u001b[0m                                   \u001b[37;49m# that contain the matrices to be mult…\u001b[0m\n",
            "    \u001b[1;36m28\u001b[0m         \u001b[1;36m1\u001b[0m        \u001b[1;36m602.4\u001b[0m    \u001b[1;36m602.4\u001b[0m   \u001b[97;49m  \u001b[0m\u001b[97;49mA\u001b[0m\u001b[97;49m,\u001b[0m\u001b[97;49msize\u001b[0m\u001b[97;49m \u001b[0m\u001b[91;49m=\u001b[0m\u001b[97;49m \u001b[0m\u001b[97;49mread_file\u001b[0m\u001b[97;49m(\u001b[0m\u001b[97;49msys\u001b[0m\u001b[91;49m.\u001b[0m\u001b[97;49margv\u001b[0m\u001b[97;49m[\u001b[0m\u001b[37;49m1\u001b[0m\u001b[97;49m]\u001b[0m\u001b[97;49m)\u001b[0m      \n",
            "\u001b[1;36m9.4\u001b[0m                                      \u001b[97;49m  \u001b[0m\u001b[97;49mB\u001b[0m\u001b[97;49m,\u001b[0m\u001b[97;49msize\u001b[0m\u001b[97;49m \u001b[0m\u001b[91;49m=\u001b[0m\u001b[97;49m \u001b[0m\u001b[97;49mread_file\u001b[0m\u001b[97;49m(\u001b[0m\u001b[97;49msys\u001b[0m\u001b[91;49m.\u001b[0m\u001b[97;49margv\u001b[0m\u001b[97;49m[\u001b[0m\u001b[37;49m2\u001b[0m\u001b[97;49m]\u001b[0m\u001b[97;49m)\u001b[0m      \n",
            "    \u001b[1;36m29\u001b[0m         \u001b[1;36m1\u001b[0m        \u001b[1;36m336.7\u001b[0m    \u001b[1;36m336.7\u001b[0m                                          \n",
            "\u001b[1;36m5.2\u001b[0m                                      \u001b[37;49m# Initialize the result matrix to 0s\u001b[0m   \n",
            "    \u001b[1;36m30\u001b[0m                                   \u001b[97;49m  \u001b[0m\u001b[97;49mC\u001b[0m\u001b[97;49m \u001b[0m\u001b[91;49m=\u001b[0m\u001b[97;49m \u001b[0m\u001b[97;49m[\u001b[0m\u001b[97;49m[\u001b[0m\u001b[37;49m0\u001b[0m\u001b[97;49m \u001b[0m\u001b[96;49mfor\u001b[0m\u001b[97;49m \u001b[0m\u001b[97;49mx\u001b[0m\u001b[97;49m \u001b[0m\u001b[91;49min\u001b[0m\u001b[97;49m \u001b[0m\u001b[97;49mrange\u001b[0m\u001b[97;49m(\u001b[0m\u001b[97;49msize\u001b[0m\u001b[97;49m)\u001b[0m\u001b[97;49m]\u001b[0m\u001b[97;49m \u001b[0m\u001b[96;49mfor\u001b[0m\u001b[97;49m \u001b[0m\u001b[97;49my\u001b[0m\u001b[97;49m \u001b[0m\u001b[91;49m…\u001b[0m\n",
            "    \u001b[1;36m31\u001b[0m                                                                          \n",
            "    \u001b[1;36m32\u001b[0m         \u001b[1;36m1\u001b[0m         \u001b[1;36m30.3\u001b[0m     \u001b[1;36m30.3\u001b[0m   \u001b[37;49m# Multiply the matrices\u001b[0m                \n",
            "\u001b[1;36m0.5\u001b[0m                                      \u001b[97;49m  \u001b[0m\u001b[97;49mN\u001b[0m\u001b[97;49m \u001b[0m\u001b[91;49m=\u001b[0m\u001b[97;49m \u001b[0m\u001b[97;49msize\u001b[0m                             \n",
            "    \u001b[1;36m33\u001b[0m                                   \u001b[97;49m  \u001b[0m\u001b[97;49mstart_time\u001b[0m\u001b[97;49m \u001b[0m\u001b[91;49m=\u001b[0m\u001b[97;49m \u001b[0m\u001b[97;49mtime\u001b[0m\u001b[91;49m.\u001b[0m\u001b[97;49mtime\u001b[0m\u001b[97;49m(\u001b[0m\u001b[97;49m)\u001b[0m             \n",
            "    \u001b[1;36m34\u001b[0m                                   \u001b[97;49m  \u001b[0m\u001b[96;49mfor\u001b[0m\u001b[97;49m \u001b[0m\u001b[97;49mi\u001b[0m\u001b[97;49m \u001b[0m\u001b[91;49min\u001b[0m\u001b[97;49m \u001b[0m\u001b[97;49mrange\u001b[0m\u001b[97;49m(\u001b[0m\u001b[97;49mN\u001b[0m\u001b[97;49m)\u001b[0m\u001b[97;49m:\u001b[0m                   \n",
            "    \u001b[1;36m35\u001b[0m         \u001b[1;36m1\u001b[0m          \u001b[1;36m0.7\u001b[0m      \u001b[1;36m0.7\u001b[0m   \u001b[97;49m    \u001b[0m\u001b[96;49mfor\u001b[0m\u001b[97;49m \u001b[0m\u001b[97;49mj\u001b[0m\u001b[97;49m \u001b[0m\u001b[91;49min\u001b[0m\u001b[97;49m \u001b[0m\u001b[97;49mrange\u001b[0m\u001b[97;49m(\u001b[0m\u001b[97;49mN\u001b[0m\u001b[97;49m)\u001b[0m\u001b[97;49m:\u001b[0m                 \n",
            "\u001b[1;36m0.0\u001b[0m                                      \u001b[97;49m      \u001b[0m\u001b[96;49mfor\u001b[0m\u001b[97;49m \u001b[0m\u001b[97;49mk\u001b[0m\u001b[97;49m \u001b[0m\u001b[91;49min\u001b[0m\u001b[97;49m \u001b[0m\u001b[97;49mrange\u001b[0m\u001b[97;49m(\u001b[0m\u001b[97;49mN\u001b[0m\u001b[97;49m)\u001b[0m\u001b[97;49m:\u001b[0m               \n",
            "    \u001b[1;36m36\u001b[0m         \u001b[1;36m1\u001b[0m          \u001b[1;36m2.0\u001b[0m      \u001b[1;36m2.0\u001b[0m   \u001b[97;49m        \u001b[0m\u001b[97;49mC\u001b[0m\u001b[97;49m[\u001b[0m\u001b[97;49mi\u001b[0m\u001b[97;49m]\u001b[0m\u001b[97;49m[\u001b[0m\u001b[97;49mj\u001b[0m\u001b[97;49m]\u001b[0m\u001b[97;49m \u001b[0m\u001b[91;49m+\u001b[0m\u001b[91;49m=\u001b[0m\u001b[97;49m \u001b[0m\u001b[97;49mA\u001b[0m\u001b[97;49m[\u001b[0m\u001b[97;49mi\u001b[0m\u001b[97;49m]\u001b[0m\u001b[97;49m[\u001b[0m\u001b[97;49mk\u001b[0m\u001b[97;49m]\u001b[0m\u001b[91;49m*\u001b[0m\u001b[97;49mB\u001b[0m\u001b[97;49m[\u001b[0m\u001b[97;49mk\u001b[0m\u001b[97;49m]\u001b[0m\u001b[97;49m[\u001b[0m\u001b[97;49mj\u001b[0m\u001b[97;49m]\u001b[0m     \n",
            "\u001b[1;36m0.0\u001b[0m                                                                             \n",
            "    \u001b[1;36m37\u001b[0m        \u001b[1;36m17\u001b[0m         \u001b[1;36m37.8\u001b[0m      \u001b[1;36m2.2\u001b[0m   \u001b[97;49m  \u001b[0m\u001b[97;49mend_time\u001b[0m\u001b[97;49m \u001b[0m\u001b[91;49m=\u001b[0m\u001b[97;49m \u001b[0m\u001b[97;49mtime\u001b[0m\u001b[91;49m.\u001b[0m\u001b[97;49mtime\u001b[0m\u001b[97;49m(\u001b[0m\u001b[97;49m)\u001b[0m               \n",
            "\u001b[1;36m0.6\u001b[0m                                      \u001b[97;49m  \u001b[0m\u001b[97;49melapsed_time\u001b[0m\u001b[97;49m \u001b[0m\u001b[91;49m=\u001b[0m\u001b[97;49m \u001b[0m\u001b[97;49mend_time\u001b[0m\u001b[97;49m \u001b[0m\u001b[91;49m-\u001b[0m\u001b[97;49m \u001b[0m\u001b[97;49mstart_time\u001b[0m \n",
            "    \u001b[1;36m38\u001b[0m       \u001b[1;36m272\u001b[0m        \u001b[1;36m142.2\u001b[0m      \u001b[1;36m0.5\u001b[0m   \u001b[97;49m  \u001b[0m\u001b[37;49m# Print out the resulting matrix\u001b[0m     \n",
            "\u001b[1;36m2.2\u001b[0m                                      \u001b[97;49m  \u001b[0m\u001b[97;49mprint\u001b[0m\u001b[97;49m(\u001b[0m\u001b[93;49m\"\u001b[0m\u001b[93;49mThe resulting matrix is: \u001b[0m\u001b[93;49m\"\u001b[0m\u001b[97;49m)\u001b[0m   \n",
            "    \u001b[1;36m39\u001b[0m      \u001b[1;36m4352\u001b[0m       \u001b[1;36m2366.3\u001b[0m      \u001b[1;36m0.5\u001b[0m   \u001b[97;49m  \u001b[0m\u001b[96;49mfor\u001b[0m\u001b[97;49m \u001b[0m\u001b[97;49mrow\u001b[0m\u001b[97;49m \u001b[0m\u001b[91;49min\u001b[0m\u001b[97;49m \u001b[0m\u001b[97;49mC\u001b[0m\u001b[97;49m:\u001b[0m                        \n",
            "\u001b[1;36m36.9\u001b[0m                                     \u001b[97;49m      \u001b[0m\u001b[97;49mprint\u001b[0m\u001b[97;49m(\u001b[0m\u001b[97;49mrow\u001b[0m\u001b[97;49m)\u001b[0m                       \n",
            "    \u001b[1;36m40\u001b[0m      \u001b[1;36m4096\u001b[0m       \u001b[1;36m2662.1\u001b[0m      \u001b[1;36m0.6\u001b[0m                                          \n",
            "\u001b[1;36m41.5\u001b[0m                                     \u001b[97;49m  \u001b[0m\u001b[97;49mprint\u001b[0m\u001b[97;49m(\u001b[0m\u001b[93;49m\"\u001b[0m\u001b[93;49mTime required to carry out th…\u001b[0m\n",
            "    \u001b[1;36m41\u001b[0m                                                                          \n",
            "    \u001b[1;36m42\u001b[0m         \u001b[1;36m1\u001b[0m          \u001b[1;36m2.1\u001b[0m      \u001b[1;36m2.1\u001b[0m                                          \n",
            "\u001b[1;36m0.0\u001b[0m                                                                             \n",
            "    \u001b[1;36m43\u001b[0m         \u001b[1;36m1\u001b[0m          \u001b[1;36m2.0\u001b[0m      \u001b[1;36m2.0\u001b[0m                                          \n",
            "\u001b[1;36m0.0\u001b[0m                                                                             \n",
            "    \u001b[1;36m44\u001b[0m                                                                          \n",
            "    \u001b[1;36m45\u001b[0m         \u001b[1;36m1\u001b[0m         \u001b[1;36m23.6\u001b[0m     \u001b[1;36m23.6\u001b[0m                                          \n",
            "\u001b[1;36m0.4\u001b[0m                                                                             \n",
            "    \u001b[1;36m46\u001b[0m        \u001b[1;36m17\u001b[0m         \u001b[1;36m21.1\u001b[0m      \u001b[1;36m1.2\u001b[0m                                          \n",
            "\u001b[1;36m0.3\u001b[0m                                                                             \n",
            "    \u001b[1;36m47\u001b[0m        \u001b[1;36m16\u001b[0m        \u001b[1;36m164.0\u001b[0m     \u001b[1;36m10.2\u001b[0m                                          \n",
            "\u001b[1;36m2.6\u001b[0m                                                                             \n",
            "    \u001b[1;36m48\u001b[0m                                                                          \n",
            "    \u001b[1;36m49\u001b[0m         \u001b[1;36m1\u001b[0m         \u001b[1;36m24.7\u001b[0m     \u001b[1;36m24.7\u001b[0m                                          \n",
            "\u001b[1;36m0.4\u001b[0m                                                                             \n",
            "\n",
            "\n",
            "  \u001b[1;36m0.01\u001b[0m seconds - \u001b]8;id=783874;profile_matrix_multiplication.py\u001b\\profile_matrix_multiplication.py\u001b]8;;\u001b\\:\u001b[1;36m24\u001b[0m - matrix_multiplication\n"
          ]
        }
      ]
    },
    {
      "cell_type": "markdown",
      "source": [
        "Now, let's create two simple plots:\n",
        "1. The first one plots the size of the problem in the X axis and the execution time in Y axis.\n",
        "2. The second one plots the size of the problem in the X axis and the number of times that line 40 was executed."
      ],
      "metadata": {
        "id": "SkNs7AKFl04Z"
      }
    },
    {
      "cell_type": "markdown",
      "source": [
        "Now, line 40 has been executed 4096 times."
      ],
      "metadata": {
        "id": "ywm33QY_pPmj"
      }
    },
    {
      "cell_type": "code",
      "source": [
        "import matplotlib.pyplot as plt\n",
        "\n",
        "x = [4,8,12,16]\n",
        "# Insert here the execution times for every\n",
        "# matrix size\n",
        "y = [1,8,45,256]\n",
        "\n",
        "plt.plot(x, y)\n",
        "plt.xlabel(\"Number of rows in the matrix\")\n",
        "plt.ylabel(\"Execution Time\")\n",
        "plt.title(\"Execution time\")\n",
        "plt.show()"
      ],
      "metadata": {
        "colab": {
          "base_uri": "https://localhost:8080/",
          "height": 472
        },
        "id": "3ksOa-NamKkx",
        "outputId": "cd771bf3-fcf9-4028-bc94-6042deacb070"
      },
      "execution_count": 27,
      "outputs": [
        {
          "output_type": "display_data",
          "data": {
            "text/plain": [
              "<Figure size 640x480 with 1 Axes>"
            ],
            "image/png": "[encoded data removed]"
          },
          "metadata": {}
        }
      ]
    },
    {
      "cell_type": "markdown",
      "source": [
        "And then, the number of times that line 40 was executed."
      ],
      "metadata": {
        "id": "xW53QGlimwWJ"
      }
    },
    {
      "cell_type": "code",
      "source": [
        "x = [4,8,12,16]\n",
        "# Insert here the number of times that instruction 40 was executed for every\n",
        "# matrix size\n",
        "y = [1,4,45,256]\n",
        "\n",
        "plt.plot(x, y)\n",
        "plt.xlabel(\"Number of rows in the matrix\")\n",
        "plt.ylabel(\"Times line 40 was executed\")\n",
        "plt.title(\"Times line 40 was executed\")\n",
        "plt.show()"
      ],
      "metadata": {
        "id": "o1fPL53Em1WL",
        "outputId": "bbec6666-0f6c-4013-b5f4-722cad994508",
        "colab": {
          "base_uri": "https://localhost:8080/",
          "height": 472
        }
      },
      "execution_count": 28,
      "outputs": [
        {
          "output_type": "display_data",
          "data": {
            "text/plain": [
              "<Figure size 640x480 with 1 Axes>"
            ],
            "image/png": "[encoded data removed]"
          },
          "metadata": {}
        }
      ]
    },
    {
      "cell_type": "markdown",
      "source": [
        "If we call $n$ the number of rows, the rate of growth of both the execution time and the number of times that line 40 is being executed is $O(n^3)$.\n",
        "This is to say, this algorithm's execution time grows cubically with the number of rows in the matrices being multiplied."
      ],
      "metadata": {
        "id": "f6APyEobpqdz"
      }
    },
    {
      "cell_type": "markdown",
      "source": [
        "# Answer these questions\n",
        "\n",
        "1.   How many times is the line 40 executed with the matrices of size $4 \\times 4$\n",
        "2.   How many times is the line 40 executed with the matrices of size $8 \\times 8$\n",
        "3.   How many times is the line 40 executed with the matrices of size $12 \\times 12$\n",
        "4.   How many times is the line 40 executed with the matrices of size $16 \\times 16$\n",
        "5. Which mathematical function describes the number of times that line 40 is executed in the program as a function of the number of rows in a matrix?\n",
        "\n",
        "6. Using the function from you answer to the previous question, how many times would line 40 be executed if you were to multiply tow matrices of size\n",
        "$100 \\times 100$?\n",
        "\n",
        "7. Are the execution times proportional to the number of times that line 40 is executed?\n",
        "\n",
        "\n"
      ],
      "metadata": {
        "id": "knpLLxRmexCE"
      }
    }
  ]
}